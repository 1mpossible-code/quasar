{
 "cells": [
  {
   "cell_type": "markdown",
   "id": "9a4fdb16",
   "metadata": {
    "pycharm": {
     "name": "#%% md\n"
    }
   },
   "source": [
    "# Image recognition notebook"
   ]
  },
  {
   "cell_type": "code",
   "execution_count": 1,
   "id": "9cf129d1",
   "metadata": {},
   "outputs": [],
   "source": [
    "import tensorflow as tf\n",
    "import pennylane as qml\n",
    "import numpy as np\n",
    "import matplotlib.pyplot as plt\n",
    "from datetime import datetime\n",
    "from sklearn.decomposition import PCA\n",
    "\n",
    "# The \"x\" of the dataset contains a two dimension numpy array of uint8, where each\n",
    "# row contains a 32x32 coloured image. The picture follows the \"channel first\" rule.\n",
    "\n",
    "# The \"y\" of the dataset contains a one dimension numpy array of uint8, where each\n",
    "# value indicates the label of corresponding x item.\n",
    "\n",
    "\n",
    "# Load the recycled dataset\n",
    "train_data = np.load('./dataset/recycled_32_train.npz')\n",
    "test_data = np.load('./dataset/recycled_32_test.npz')\n",
    "\n",
    "x_train = train_data['x']\n",
    "y_train = train_data['y']\n",
    "x_test = test_data['x']\n",
    "y_test = test_data['y']\n",
    "\n",
    "# Preprocess the data\n",
    "x_train = x_train / 255.0\n",
    "x_test = x_test / 255.0\n",
    "\n",
    "# Reshape the data\n",
    "x_train = x_train.reshape(x_train.shape[0], 32, 32, 3)\n",
    "\n",
    "x_test = x_test.reshape(x_test.shape[0], 32, 32, 3)\n",
    "\n",
    "# Use quantum computing for the image classification model\n",
    "\n",
    "# Define the quantum device\n",
    "dev = qml.device(\"default.qubit\", wires=4)\n",
    "\n",
    "# Define the quantum circuit\n",
    "@qml.qnode(dev)\n",
    "def circuit(inputs, weights):\n",
    "    qml.templates.AngleEmbedding(inputs, wires=range(4))\n",
    "    qml.templates.BasicEntanglerLayers(weights, wires=range(4))\n",
    "    return [qml.expval(qml.PauliZ(i)) for i in range(4)]\n",
    "\n",
    "\n",
    "# Define the quantum model\n",
    "def quantum_model(inputs, weights):\n",
    "    outputs = [circuit(inputs, w) for w in weights]\n",
    "    return outputs\n",
    "\n",
    "\n"
   ]
  },
  {
   "cell_type": "code",
   "execution_count": 7,
   "id": "b063ed99",
   "metadata": {},
   "outputs": [],
   "source": [
    "import warnings\n",
    "\n",
    "import logging\n",
    "\n",
    "logging.disable(logging.WARNING)\n",
    "warnings.filterwarnings(\"ignore\", message=\"You are casting an input of type complex128 to an incompatible dtype float32.\")"
   ]
  },
  {
   "cell_type": "code",
   "execution_count": 4,
   "id": "9f646173",
   "metadata": {},
   "outputs": [],
   "source": [
    "# Step 1: Hybrid Quantum-Classical Model\n",
    "\n",
    "# 1.1 Classical part: PCA and data flattening\n",
    "n_components = 4\n",
    "pca = PCA(n_components=n_components)\n",
    "x_train_pca = pca.fit_transform(x_train.reshape(x_train.shape[0], -1))\n",
    "x_test_pca = pca.transform(x_test.reshape(x_test.shape[0], -1))\n",
    "\n",
    "# 1.2 Quantum part: Quantum model\n",
    "n_layers = 2  # Example: 2 layers for the BasicEntanglerLayers\n",
    "weight_shapes = {\"weights\": (n_layers, 4)}\n",
    "\n",
    "# Convert the quantum model to a Keras layer\n",
    "quantum_layer = qml.qnn.KerasLayer(circuit, weight_shapes, output_dim=4)\n",
    "\n",
    "x_train_pca = x_train_pca.astype(np.float32)\n",
    "x_test_pca = x_test_pca.astype(np.float32)\n",
    "\n",
    "\n",
    "\n",
    "\n",
    "# 1.3 Classical part: Define the full model using Keras\n",
    "model = tf.keras.models.Sequential([\n",
    "    tf.keras.layers.Dense(4, activation=\"relu\"),  # for the reduced dimensionality from PCA\n",
    "    quantum_layer,\n",
    "    tf.keras.layers.Dense(6, activation=\"softmax\")  # 6 classes as per the data provided\n",
    "])\n"
   ]
  },
  {
   "cell_type": "code",
   "execution_count": 5,
   "id": "273b80f0",
   "metadata": {},
   "outputs": [],
   "source": [
    "# Compile the model\n",
    "model.compile(optimizer=\"adam\", loss=\"sparse_categorical_crossentropy\", metrics=[\"accuracy\"])"
   ]
  },
  {
   "cell_type": "code",
   "execution_count": 8,
   "id": "e2b48096",
   "metadata": {},
   "outputs": [
    {
     "name": "stdout",
     "output_type": "stream",
     "text": [
      "Epoch 1/5\n",
      "313/313 [==============================] - 22s 70ms/step - loss: 1.6987 - accuracy: 0.2639 - val_loss: 1.6025 - val_accuracy: 0.3073\n",
      "Epoch 2/5\n",
      "313/313 [==============================] - 22s 69ms/step - loss: 1.5453 - accuracy: 0.3481 - val_loss: 1.4920 - val_accuracy: 0.3787\n",
      "Epoch 3/5\n",
      "313/313 [==============================] - 22s 69ms/step - loss: 1.4655 - accuracy: 0.3736 - val_loss: 1.4421 - val_accuracy: 0.3867\n",
      "Epoch 4/5\n",
      "313/313 [==============================] - 22s 69ms/step - loss: 1.4312 - accuracy: 0.3810 - val_loss: 1.4170 - val_accuracy: 0.3927\n",
      "Epoch 5/5\n",
      "313/313 [==============================] - 22s 69ms/step - loss: 1.4141 - accuracy: 0.3858 - val_loss: 1.4024 - val_accuracy: 0.3867\n"
     ]
    },
    {
     "data": {
      "text/plain": [
       "<keras.src.callbacks.History at 0x29bc00c10>"
      ]
     },
     "execution_count": 8,
     "metadata": {},
     "output_type": "execute_result"
    }
   ],
   "source": [
    "# Step 2: Training\n",
    "model.fit(x_train_pca, y_train, epochs=5, batch_size=32, validation_data=(x_test_pca, y_test))"
   ]
  },
  {
   "cell_type": "code",
   "execution_count": 9,
   "id": "9f2a54ad",
   "metadata": {},
   "outputs": [
    {
     "name": "stdout",
     "output_type": "stream",
     "text": [
      "47/47 [==============================] - 2s 32ms/step - loss: 1.4024 - accuracy: 0.3867\n",
      "Loss: 1.4023897647857666\n",
      "Accuracy: 0.3866666555404663\n"
     ]
    }
   ],
   "source": [
    "# Step 3: Evaluation\n",
    "loss, accuracy = model.evaluate(x_test_pca, y_test)\n",
    "print(\"Loss:\", loss)\n",
    "print(\"Accuracy:\", accuracy)"
   ]
  }
 ],
 "metadata": {
  "kernelspec": {
   "display_name": "Python 3 (ipykernel)",
   "language": "python",
   "name": "python3"
  },
  "language_info": {
   "codemirror_mode": {
    "name": "ipython",
    "version": 3
   },
   "file_extension": ".py",
   "mimetype": "text/x-python",
   "name": "python",
   "nbconvert_exporter": "python",
   "pygments_lexer": "ipython3",
   "version": "3.9.17"
  }
 },
 "nbformat": 4,
 "nbformat_minor": 5
}
