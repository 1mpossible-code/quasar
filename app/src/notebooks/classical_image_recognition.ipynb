{
 "cells": [
  {
   "cell_type": "markdown",
   "id": "9a4fdb16",
   "metadata": {
    "pycharm": {
     "name": "#%% md\n"
    }
   },
   "source": [
    "# Image recognition notebook"
   ]
  },
  {
   "cell_type": "code",
   "execution_count": 1,
   "id": "6f012863",
   "metadata": {
    "pycharm": {
     "name": "#%%\n"
    }
   },
   "outputs": [],
   "source": [
    "import numpy as np\n",
    "\n",
    "# Load training data and test data\n",
    "train_dataset = \"./dataset/recycled_32_train.npz\"\n",
    "train_data = np.load(train_dataset)\n",
    "\n",
    "test_dataset = \"./dataset/recycled_32_test.npz\"\n",
    "test_data = np.load(test_dataset)"
   ]
  },
  {
   "cell_type": "markdown",
   "id": "e577193f",
   "metadata": {
    "pycharm": {
     "name": "#%% md\n"
    }
   },
   "source": [
    "The \"x\" of the dataset contains a two dimension numpy array of uint8, where each\n",
    "row contains a 32x32 coloured image. The picture follows the \"channel first\" rule.\n",
    "\n",
    "The \"y\" of the dataset contains a one dimension numpy array of uint8, where each\n",
    "value indicates the label of corresponding x item.\n"
   ]
  },
  {
   "cell_type": "code",
   "execution_count": 2,
   "id": "2d67072e",
   "metadata": {
    "pycharm": {
     "name": "#%%\n"
    }
   },
   "outputs": [],
   "source": [
    "# Train data\n",
    "train_images = train_data[\"x\"]\n",
    "train_labels = train_data[\"y\"]\n",
    "\n",
    "# Test data\n",
    "test_images = test_data[\"x\"]\n",
    "test_labels = test_data[\"y\"]"
   ]
  },
  {
   "cell_type": "code",
   "execution_count": 3,
   "id": "e3b1637b",
   "metadata": {
    "pycharm": {
     "name": "#%%\n"
    }
   },
   "outputs": [],
   "source": [
    "# Normalize the data\n",
    "train_images = train_images / 255.0\n",
    "test_images = test_images / 255.0\n",
    "\n",
    "# Reshape the data\n",
    "train_images = train_images.reshape(train_images.shape[0], 32, 32, 3)\n",
    "\n",
    "test_images = test_images.reshape(test_images.shape[0], 32, 32, 3)"
   ]
  },
  {
   "cell_type": "code",
   "execution_count": 4,
   "id": "4064e0e1",
   "metadata": {
    "pycharm": {
     "name": "#%%\n"
    }
   },
   "outputs": [],
   "source": [
    "import tensorflow as tf\n",
    "\n",
    "# Build the model\n",
    "model = tf.keras.models.Sequential([\n",
    "    tf.keras.layers.Flatten(input_shape=(32, 32, 3)),\n",
    "    tf.keras.layers.Dense(32, activation=\"sigmoid\"),\n",
    "    tf.keras.layers.Dense(6, activation=\"softmax\")\n",
    "])\n"
   ]
  },
  {
   "cell_type": "code",
   "execution_count": 5,
   "id": "796b29a2",
   "metadata": {
    "pycharm": {
     "name": "#%%\n"
    }
   },
   "outputs": [],
   "source": [
    "# Compile the model\n",
    "\n",
    "model.compile(optimizer=\"adam\", loss=\"sparse_categorical_crossentropy\", metrics=[\"accuracy\"])"
   ]
  },
  {
   "cell_type": "code",
   "execution_count": 6,
   "id": "fb18b8a5",
   "metadata": {
    "pycharm": {
     "name": "#%%\n"
    }
   },
   "outputs": [
    {
     "name": "stdout",
     "output_type": "stream",
     "text": [
      "Epoch 1/50\n",
      "313/313 [==============================] - 0s 866us/step - loss: 1.4067 - accuracy: 0.4085\n",
      "Epoch 2/50\n",
      "313/313 [==============================] - 0s 1ms/step - loss: 1.1905 - accuracy: 0.5156\n",
      "Epoch 3/50\n",
      "313/313 [==============================] - 0s 798us/step - loss: 1.1160 - accuracy: 0.5522\n",
      "Epoch 4/50\n",
      "313/313 [==============================] - 0s 1ms/step - loss: 1.0719 - accuracy: 0.5801\n",
      "Epoch 5/50\n",
      "313/313 [==============================] - 1s 2ms/step - loss: 1.0373 - accuracy: 0.5932\n",
      "Epoch 6/50\n",
      "313/313 [==============================] - 0s 1ms/step - loss: 1.0173 - accuracy: 0.5990\n",
      "Epoch 7/50\n",
      "313/313 [==============================] - 0s 1ms/step - loss: 0.9915 - accuracy: 0.6107\n",
      "Epoch 8/50\n",
      "313/313 [==============================] - 0s 870us/step - loss: 0.9569 - accuracy: 0.6265\n",
      "Epoch 9/50\n",
      "313/313 [==============================] - 0s 946us/step - loss: 0.9354 - accuracy: 0.6346\n",
      "Epoch 10/50\n",
      "313/313 [==============================] - 0s 826us/step - loss: 0.9092 - accuracy: 0.6451\n",
      "Epoch 11/50\n",
      "313/313 [==============================] - 0s 850us/step - loss: 0.9091 - accuracy: 0.6458\n",
      "Epoch 12/50\n",
      "313/313 [==============================] - 0s 846us/step - loss: 0.8738 - accuracy: 0.6627\n",
      "Epoch 13/50\n",
      "313/313 [==============================] - 0s 845us/step - loss: 0.8680 - accuracy: 0.6615\n",
      "Epoch 14/50\n",
      "313/313 [==============================] - 0s 868us/step - loss: 0.8518 - accuracy: 0.6696\n",
      "Epoch 15/50\n",
      "313/313 [==============================] - 0s 842us/step - loss: 0.8377 - accuracy: 0.6713\n",
      "Epoch 16/50\n",
      "313/313 [==============================] - 0s 857us/step - loss: 0.8193 - accuracy: 0.6869\n",
      "Epoch 17/50\n",
      "313/313 [==============================] - 0s 1000us/step - loss: 0.7992 - accuracy: 0.6957\n",
      "Epoch 18/50\n",
      "313/313 [==============================] - 0s 929us/step - loss: 0.7963 - accuracy: 0.6919\n",
      "Epoch 19/50\n",
      "313/313 [==============================] - 0s 853us/step - loss: 0.7811 - accuracy: 0.6990\n",
      "Epoch 20/50\n",
      "313/313 [==============================] - 0s 806us/step - loss: 0.7729 - accuracy: 0.7057\n",
      "Epoch 21/50\n",
      "313/313 [==============================] - 0s 800us/step - loss: 0.7533 - accuracy: 0.7106\n",
      "Epoch 22/50\n",
      "313/313 [==============================] - 0s 799us/step - loss: 0.7516 - accuracy: 0.7119\n",
      "Epoch 23/50\n",
      "313/313 [==============================] - 0s 858us/step - loss: 0.7371 - accuracy: 0.7195\n",
      "Epoch 24/50\n",
      "313/313 [==============================] - 0s 850us/step - loss: 0.7345 - accuracy: 0.7190\n",
      "Epoch 25/50\n",
      "313/313 [==============================] - 0s 857us/step - loss: 0.7214 - accuracy: 0.7220\n",
      "Epoch 26/50\n",
      "313/313 [==============================] - 0s 1ms/step - loss: 0.7219 - accuracy: 0.7200\n",
      "Epoch 27/50\n",
      "313/313 [==============================] - 0s 940us/step - loss: 0.7052 - accuracy: 0.7284\n",
      "Epoch 28/50\n",
      "313/313 [==============================] - 0s 870us/step - loss: 0.6995 - accuracy: 0.7313\n",
      "Epoch 29/50\n",
      "313/313 [==============================] - 0s 804us/step - loss: 0.6947 - accuracy: 0.7350\n",
      "Epoch 30/50\n",
      "313/313 [==============================] - 0s 893us/step - loss: 0.6855 - accuracy: 0.7337\n",
      "Epoch 31/50\n",
      "313/313 [==============================] - 0s 1ms/step - loss: 0.6735 - accuracy: 0.7398\n",
      "Epoch 32/50\n",
      "313/313 [==============================] - 0s 907us/step - loss: 0.6737 - accuracy: 0.7359\n",
      "Epoch 33/50\n",
      "313/313 [==============================] - 0s 813us/step - loss: 0.6725 - accuracy: 0.7381\n",
      "Epoch 34/50\n",
      "313/313 [==============================] - 0s 804us/step - loss: 0.6486 - accuracy: 0.7495\n",
      "Epoch 35/50\n",
      "313/313 [==============================] - 0s 964us/step - loss: 0.6508 - accuracy: 0.7505\n",
      "Epoch 36/50\n",
      "313/313 [==============================] - 0s 908us/step - loss: 0.6382 - accuracy: 0.7541\n",
      "Epoch 37/50\n",
      "313/313 [==============================] - 0s 814us/step - loss: 0.6385 - accuracy: 0.7524\n",
      "Epoch 38/50\n",
      "313/313 [==============================] - 0s 993us/step - loss: 0.6284 - accuracy: 0.7551\n",
      "Epoch 39/50\n",
      "313/313 [==============================] - 0s 940us/step - loss: 0.6217 - accuracy: 0.7620\n",
      "Epoch 40/50\n",
      "313/313 [==============================] - 0s 834us/step - loss: 0.6156 - accuracy: 0.7611\n",
      "Epoch 41/50\n",
      "313/313 [==============================] - 0s 826us/step - loss: 0.6300 - accuracy: 0.7553\n",
      "Epoch 42/50\n",
      "313/313 [==============================] - 0s 798us/step - loss: 0.6009 - accuracy: 0.7659\n",
      "Epoch 43/50\n",
      "313/313 [==============================] - 0s 964us/step - loss: 0.6026 - accuracy: 0.7663\n",
      "Epoch 44/50\n",
      "313/313 [==============================] - 0s 908us/step - loss: 0.5926 - accuracy: 0.7676\n",
      "Epoch 45/50\n",
      "313/313 [==============================] - 0s 827us/step - loss: 0.6018 - accuracy: 0.7659\n",
      "Epoch 46/50\n",
      "313/313 [==============================] - 0s 811us/step - loss: 0.6025 - accuracy: 0.7621\n",
      "Epoch 47/50\n",
      "313/313 [==============================] - 0s 801us/step - loss: 0.5875 - accuracy: 0.7736\n",
      "Epoch 48/50\n",
      "313/313 [==============================] - 0s 800us/step - loss: 0.5911 - accuracy: 0.7676\n",
      "Epoch 49/50\n",
      "313/313 [==============================] - 0s 859us/step - loss: 0.5843 - accuracy: 0.7701\n",
      "Epoch 50/50\n",
      "313/313 [==============================] - 0s 898us/step - loss: 0.5684 - accuracy: 0.7743\n"
     ]
    },
    {
     "data": {
      "text/plain": [
       "<keras.src.callbacks.History at 0x29fdb78e0>"
      ]
     },
     "execution_count": 6,
     "metadata": {},
     "output_type": "execute_result"
    }
   ],
   "source": [
    "# Train the model\n",
    "\n",
    "model.fit(train_images, train_labels, epochs=50)"
   ]
  },
  {
   "cell_type": "code",
   "execution_count": 7,
   "id": "fc610056",
   "metadata": {
    "pycharm": {
     "name": "#%%\n"
    }
   },
   "outputs": [
    {
     "name": "stdout",
     "output_type": "stream",
     "text": [
      "47/47 - 0s - loss: 0.6672 - accuracy: 0.7300 - 136ms/epoch - 3ms/step\n",
      "\n",
      "Test accuracy: 0.7300000190734863\n"
     ]
    }
   ],
   "source": [
    "# Evaluate the model\n",
    "\n",
    "test_loss, test_acc = model.evaluate(test_images, test_labels, verbose=2)\n",
    "\n",
    "print(\"\\nTest accuracy:\", test_acc)"
   ]
  },
  {
   "cell_type": "code",
   "execution_count": 8,
   "id": "359d859e-affd-4f28-9c8e-e52db0697901",
   "metadata": {},
   "outputs": [
    {
     "name": "stderr",
     "output_type": "stream",
     "text": [
      "/Users/max/max/learning/tasks/venv/lib/python3.9/site-packages/keras/src/engine/training.py:3000: UserWarning: You are saving your model as an HDF5 file via `model.save()`. This file format is considered legacy. We recommend using instead the native Keras format, e.g. `model.save('my_model.keras')`.\n",
      "  saving_api.save_model(\n"
     ]
    }
   ],
   "source": [
    "# Save the model\n",
    "\n",
    "model.save(\"./model/classical_model.h5\")"
   ]
  },
  {
   "cell_type": "code",
   "execution_count": 9,
   "id": "afcfa5e3-fd44-4ee2-9949-a1cf2ae1bf89",
   "metadata": {},
   "outputs": [
    {
     "name": "stdout",
     "output_type": "stream",
     "text": [
      "47/47 [==============================] - 0s 641us/step - loss: 0.6672 - accuracy: 0.7300\n",
      "Test accuracy: 0.7300000190734863\n"
     ]
    }
   ],
   "source": [
    "# Load the saved model\n",
    "model_path = \"./model/classical_model.h5\"\n",
    "loaded_model = tf.keras.models.load_model(model_path)\n",
    "\n",
    "# Evaluate the model on the test data\n",
    "test_loss, test_accuracy = loaded_model.evaluate(test_images, test_labels)\n",
    "print(\"Test accuracy:\", test_accuracy)\n",
    "\n"
   ]
  },
  {
   "cell_type": "code",
   "execution_count": 10,
   "id": "d7b70e64-65ae-4257-9bef-a0c017521fd0",
   "metadata": {
    "pycharm": {
     "name": "#%%\n"
    }
   },
   "outputs": [
    {
     "name": "stdout",
     "output_type": "stream",
     "text": [
      "2/2 [==============================] - 0s 2ms/step\n",
      "Predicted labels for the random 10 test images:\t\t [1 3 4 3 1 1 4 1 0 4 0 3 4 0 0 4 0 2 2 2 0 3 4 3 0 4 0 1 3 1 3 4 0 0 3 1 4\n",
      " 3 3 4 2 0 1 1 3 2 4 4 3 4]\n",
      "True labels for the random 10 test images:\t\t [2 2 4 2 1 1 4 4 0 1 0 3 3 0 0 4 0 3 2 4 0 3 4 2 3 1 4 1 3 2 2 1 1 0 3 1 2\n",
      " 3 1 4 2 0 1 2 3 1 4 4 3 4]\n"
     ]
    }
   ],
   "source": [
    "import random\n",
    "\n",
    "# Randomly select 10 test images and make predictions\n",
    "random_indices = random.sample(range(test_images.shape[0]), 50)\n",
    "random_test_images = test_images[random_indices]\n",
    "random_test_labels = test_labels[random_indices]\n",
    "\n",
    "# Make predictions for the randomly selected test images\n",
    "random_sample_predictions = loaded_model.predict(random_test_images)\n",
    "random_predicted_labels = np.argmax(random_sample_predictions, axis=1)\n",
    "\n",
    "print(\"Predicted labels for the random 10 test images:\\t\\t\", random_predicted_labels)\n",
    "print(\"True labels for the random 10 test images:\\t\\t\", random_test_labels)"
   ]
  }
 ],
 "metadata": {
  "kernelspec": {
   "display_name": "Python 3 (ipykernel)",
   "language": "python",
   "name": "python3"
  },
  "language_info": {
   "codemirror_mode": {
    "name": "ipython",
    "version": 3
   },
   "file_extension": ".py",
   "mimetype": "text/x-python",
   "name": "python",
   "nbconvert_exporter": "python",
   "pygments_lexer": "ipython3",
   "version": "3.11.5"
  }
 },
 "nbformat": 4,
 "nbformat_minor": 5
}
