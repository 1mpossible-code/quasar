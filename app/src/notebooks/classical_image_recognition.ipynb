{
 "cells": [
  {
   "cell_type": "markdown",
   "id": "9a4fdb16",
   "metadata": {
    "pycharm": {
     "name": "#%% md\n"
    }
   },
   "source": [
    "# Image recognition notebook"
   ]
  },
  {
   "cell_type": "code",
   "execution_count": 1,
   "id": "6f012863",
   "metadata": {
    "pycharm": {
     "name": "#%%\n"
    }
   },
   "outputs": [],
   "source": [
    "import numpy as np\n",
    "\n",
    "# Load training data and test data\n",
    "train_dataset = \"./dataset/recycled_32_train.npz\"\n",
    "train_data = np.load(train_dataset)\n",
    "\n",
    "test_dataset = \"./dataset/recycled_32_test.npz\"\n",
    "test_data = np.load(test_dataset)"
   ]
  },
  {
   "cell_type": "markdown",
   "id": "e577193f",
   "metadata": {
    "pycharm": {
     "name": "#%% md\n"
    }
   },
   "source": [
    "The \"x\" of the dataset contains a two dimension numpy array of uint8, where each\n",
    "row contains a 32x32 coloured image. The picture follows the \"channel first\" rule.\n",
    "\n",
    "The \"y\" of the dataset contains a one dimension numpy array of uint8, where each\n",
    "value indicates the label of corresponding x item.\n"
   ]
  },
  {
   "cell_type": "code",
   "execution_count": 2,
   "id": "2d67072e",
   "metadata": {
    "pycharm": {
     "name": "#%%\n"
    }
   },
   "outputs": [],
   "source": [
    "# Train data\n",
    "train_images = train_data[\"x\"]\n",
    "train_labels = train_data[\"y\"]\n",
    "\n",
    "# Test data\n",
    "test_images = test_data[\"x\"]\n",
    "test_labels = test_data[\"y\"]"
   ]
  },
  {
   "cell_type": "code",
   "execution_count": 3,
   "id": "e3b1637b",
   "metadata": {
    "pycharm": {
     "name": "#%%\n"
    }
   },
   "outputs": [],
   "source": [
    "# Normalize the data\n",
    "train_images = train_images / 255.0\n",
    "test_images = test_images / 255.0\n",
    "\n",
    "# Reshape the data\n",
    "train_images = train_images.reshape(train_images.shape[0], 32, 32, 3)\n",
    "\n",
    "test_images = test_images.reshape(test_images.shape[0], 32, 32, 3)"
   ]
  },
  {
   "cell_type": "code",
   "execution_count": 4,
   "id": "4064e0e1",
   "metadata": {
    "pycharm": {
     "name": "#%%\n"
    }
   },
   "outputs": [],
   "source": [
    "import tensorflow as tf\n",
    "\n",
    "# Build the model\n",
    "model = tf.keras.models.Sequential([\n",
    "    tf.keras.layers.Flatten(input_shape=(32, 32, 3)),\n",
    "    tf.keras.layers.Dense(128, activation=\"relu\"),\n",
    "    tf.keras.layers.Dense(6, activation=\"softmax\")\n",
    "])\n"
   ]
  },
  {
   "cell_type": "code",
   "execution_count": 5,
   "id": "796b29a2",
   "metadata": {
    "pycharm": {
     "name": "#%%\n"
    }
   },
   "outputs": [],
   "source": [
    "# Compile the model\n",
    "\n",
    "model.compile(optimizer=\"adam\", loss=\"sparse_categorical_crossentropy\", metrics=[\"accuracy\"])"
   ]
  },
  {
   "cell_type": "code",
   "execution_count": 6,
   "id": "fb18b8a5",
   "metadata": {
    "pycharm": {
     "name": "#%%\n"
    }
   },
   "outputs": [
    {
     "name": "stdout",
     "output_type": "stream",
     "text": [
      "Epoch 1/50\n",
      "313/313 [==============================] - 1s 1ms/step - loss: 1.3322 - accuracy: 0.4381\n",
      "Epoch 2/50\n",
      "313/313 [==============================] - 0s 1ms/step - loss: 1.1447 - accuracy: 0.5353\n",
      "Epoch 3/50\n",
      "313/313 [==============================] - 0s 1ms/step - loss: 1.0844 - accuracy: 0.5703\n",
      "Epoch 4/50\n",
      "313/313 [==============================] - 0s 1ms/step - loss: 1.0525 - accuracy: 0.5807\n",
      "Epoch 5/50\n",
      "313/313 [==============================] - 1s 2ms/step - loss: 1.0225 - accuracy: 0.5962\n",
      "Epoch 6/50\n",
      "313/313 [==============================] - 1s 2ms/step - loss: 0.9900 - accuracy: 0.6103\n",
      "Epoch 7/50\n",
      "313/313 [==============================] - 1s 2ms/step - loss: 0.9633 - accuracy: 0.6222\n",
      "Epoch 8/50\n",
      "313/313 [==============================] - 1s 2ms/step - loss: 0.9328 - accuracy: 0.6334\n",
      "Epoch 9/50\n",
      "313/313 [==============================] - 1s 2ms/step - loss: 0.8888 - accuracy: 0.6494\n",
      "Epoch 10/50\n",
      "313/313 [==============================] - 1s 2ms/step - loss: 0.8832 - accuracy: 0.6528\n",
      "Epoch 11/50\n",
      "313/313 [==============================] - 1s 3ms/step - loss: 0.8395 - accuracy: 0.6757\n",
      "Epoch 12/50\n",
      "313/313 [==============================] - 1s 2ms/step - loss: 0.8180 - accuracy: 0.6806\n",
      "Epoch 13/50\n",
      "313/313 [==============================] - 1s 2ms/step - loss: 0.7842 - accuracy: 0.6987\n",
      "Epoch 14/50\n",
      "313/313 [==============================] - 1s 2ms/step - loss: 0.8103 - accuracy: 0.6830\n",
      "Epoch 15/50\n",
      "313/313 [==============================] - 1s 2ms/step - loss: 0.7828 - accuracy: 0.6937\n",
      "Epoch 16/50\n",
      "313/313 [==============================] - 1s 2ms/step - loss: 0.7534 - accuracy: 0.7020\n",
      "Epoch 17/50\n",
      "313/313 [==============================] - 1s 2ms/step - loss: 0.7407 - accuracy: 0.7064\n",
      "Epoch 18/50\n",
      "313/313 [==============================] - 1s 2ms/step - loss: 0.7491 - accuracy: 0.7046\n",
      "Epoch 19/50\n",
      "313/313 [==============================] - 1s 2ms/step - loss: 0.7318 - accuracy: 0.7128\n",
      "Epoch 20/50\n",
      "313/313 [==============================] - 1s 2ms/step - loss: 0.6887 - accuracy: 0.7262\n",
      "Epoch 21/50\n",
      "313/313 [==============================] - 1s 2ms/step - loss: 0.6873 - accuracy: 0.7340\n",
      "Epoch 22/50\n",
      "313/313 [==============================] - 1s 2ms/step - loss: 0.6646 - accuracy: 0.7423\n",
      "Epoch 23/50\n",
      "313/313 [==============================] - 1s 2ms/step - loss: 0.6565 - accuracy: 0.7395\n",
      "Epoch 24/50\n",
      "313/313 [==============================] - 1s 2ms/step - loss: 0.6910 - accuracy: 0.7229\n",
      "Epoch 25/50\n",
      "313/313 [==============================] - 1s 2ms/step - loss: 0.6474 - accuracy: 0.7427\n",
      "Epoch 26/50\n",
      "313/313 [==============================] - 1s 2ms/step - loss: 0.6328 - accuracy: 0.7473\n",
      "Epoch 27/50\n",
      "313/313 [==============================] - 1s 2ms/step - loss: 0.6512 - accuracy: 0.7443\n",
      "Epoch 28/50\n",
      "313/313 [==============================] - 0s 2ms/step - loss: 0.6301 - accuracy: 0.7488\n",
      "Epoch 29/50\n",
      "313/313 [==============================] - 0s 2ms/step - loss: 0.6490 - accuracy: 0.7463\n",
      "Epoch 30/50\n",
      "313/313 [==============================] - 1s 2ms/step - loss: 0.6175 - accuracy: 0.7599\n",
      "Epoch 31/50\n",
      "313/313 [==============================] - 1s 2ms/step - loss: 0.6047 - accuracy: 0.7629\n",
      "Epoch 32/50\n",
      "313/313 [==============================] - 1s 2ms/step - loss: 0.6101 - accuracy: 0.7620\n",
      "Epoch 33/50\n",
      "313/313 [==============================] - 1s 2ms/step - loss: 0.5952 - accuracy: 0.7672\n",
      "Epoch 34/50\n",
      "313/313 [==============================] - 0s 2ms/step - loss: 0.5911 - accuracy: 0.7640\n",
      "Epoch 35/50\n",
      "313/313 [==============================] - 1s 2ms/step - loss: 0.6056 - accuracy: 0.7590\n",
      "Epoch 36/50\n",
      "313/313 [==============================] - 0s 2ms/step - loss: 0.5820 - accuracy: 0.7696\n",
      "Epoch 37/50\n",
      "313/313 [==============================] - 1s 2ms/step - loss: 0.5739 - accuracy: 0.7753\n",
      "Epoch 38/50\n",
      "313/313 [==============================] - 1s 2ms/step - loss: 0.5835 - accuracy: 0.7746\n",
      "Epoch 39/50\n",
      "313/313 [==============================] - 0s 2ms/step - loss: 0.5647 - accuracy: 0.7803\n",
      "Epoch 40/50\n",
      "313/313 [==============================] - 1s 2ms/step - loss: 0.5756 - accuracy: 0.7759\n",
      "Epoch 41/50\n",
      "313/313 [==============================] - 0s 2ms/step - loss: 0.5529 - accuracy: 0.7872\n",
      "Epoch 42/50\n",
      "313/313 [==============================] - 1s 2ms/step - loss: 0.5486 - accuracy: 0.7876\n",
      "Epoch 43/50\n",
      "313/313 [==============================] - 0s 2ms/step - loss: 0.5452 - accuracy: 0.7875\n",
      "Epoch 44/50\n",
      "313/313 [==============================] - 0s 2ms/step - loss: 0.5514 - accuracy: 0.7844\n",
      "Epoch 45/50\n",
      "313/313 [==============================] - 1s 2ms/step - loss: 0.5404 - accuracy: 0.7934\n",
      "Epoch 46/50\n",
      "313/313 [==============================] - 0s 2ms/step - loss: 0.5253 - accuracy: 0.7959\n",
      "Epoch 47/50\n",
      "313/313 [==============================] - 0s 2ms/step - loss: 0.5346 - accuracy: 0.7948\n",
      "Epoch 48/50\n",
      "313/313 [==============================] - 0s 2ms/step - loss: 0.5114 - accuracy: 0.8031\n",
      "Epoch 49/50\n",
      "313/313 [==============================] - 1s 2ms/step - loss: 0.5480 - accuracy: 0.7876\n",
      "Epoch 50/50\n",
      "313/313 [==============================] - 1s 2ms/step - loss: 0.5500 - accuracy: 0.7843\n"
     ]
    },
    {
     "data": {
      "text/plain": [
       "<keras.src.callbacks.History at 0x28fbb6df0>"
      ]
     },
     "execution_count": 6,
     "metadata": {},
     "output_type": "execute_result"
    }
   ],
   "source": [
    "# Train the model\n",
    "\n",
    "model.fit(train_images, train_labels, epochs=50)"
   ]
  },
  {
   "cell_type": "code",
   "execution_count": 7,
   "id": "fc610056",
   "metadata": {
    "pycharm": {
     "name": "#%%\n"
    }
   },
   "outputs": [
    {
     "name": "stdout",
     "output_type": "stream",
     "text": [
      "47/47 - 0s - loss: 0.6074 - accuracy: 0.7680 - 145ms/epoch - 3ms/step\n",
      "\n",
      "Test accuracy: 0.7680000066757202\n"
     ]
    }
   ],
   "source": [
    "# Evaluate the model\n",
    "\n",
    "test_loss, test_acc = model.evaluate(test_images, test_labels, verbose=2)\n",
    "\n",
    "print(\"\\nTest accuracy:\", test_acc)"
   ]
  },
  {
   "cell_type": "code",
   "execution_count": 8,
   "id": "359d859e-affd-4f28-9c8e-e52db0697901",
   "metadata": {},
   "outputs": [
    {
     "name": "stderr",
     "output_type": "stream",
     "text": [
      "/Users/max/max/learning/tasks/venv/lib/python3.9/site-packages/keras/src/engine/training.py:3000: UserWarning: You are saving your model as an HDF5 file via `model.save()`. This file format is considered legacy. We recommend using instead the native Keras format, e.g. `model.save('my_model.keras')`.\n",
      "  saving_api.save_model(\n"
     ]
    }
   ],
   "source": [
    "# Save the model\n",
    "\n",
    "model.save(\"./model/classical_model.h5\")"
   ]
  },
  {
   "cell_type": "code",
   "execution_count": 9,
   "id": "afcfa5e3-fd44-4ee2-9949-a1cf2ae1bf89",
   "metadata": {},
   "outputs": [
    {
     "name": "stdout",
     "output_type": "stream",
     "text": [
      "47/47 [==============================] - 0s 785us/step - loss: 0.6074 - accuracy: 0.7680\n",
      "Test accuracy: 0.7680000066757202\n"
     ]
    }
   ],
   "source": [
    "# Load the saved model\n",
    "model_path = \"./model/classical_model.h5\"\n",
    "loaded_model = tf.keras.models.load_model(model_path)\n",
    "\n",
    "# Evaluate the model on the test data\n",
    "test_loss, test_accuracy = loaded_model.evaluate(test_images, test_labels)\n",
    "print(\"Test accuracy:\", test_accuracy)\n",
    "\n"
   ]
  },
  {
   "cell_type": "code",
   "execution_count": 10,
   "id": "d7b70e64-65ae-4257-9bef-a0c017521fd0",
   "metadata": {
    "pycharm": {
     "name": "#%%\n"
    }
   },
   "outputs": [
    {
     "name": "stdout",
     "output_type": "stream",
     "text": [
      "2/2 [==============================] - 0s 2ms/step\n",
      "Predicted labels for the random 10 test images:\t\t [3 3 0 1 4 1 1 3 0 4 2 0 3 1 0 1 3 4 0 2 3 3 2 2 2 2 2 0 2 1 4 0 4 0 4 0 3\n",
      " 0 4 2 2 4 2 4 3 3 4 3 1 4]\n",
      "True labels for the random 10 test images:\t\t [2 3 0 1 2 4 2 3 0 4 4 0 2 1 0 1 2 4 0 2 3 3 2 2 1 2 2 0 3 1 4 0 4 0 4 0 3\n",
      " 0 4 3 3 4 2 4 3 2 2 3 4 4]\n"
     ]
    }
   ],
   "source": [
    "import random\n",
    "\n",
    "# Randomly select 10 test images and make predictions\n",
    "random_indices = random.sample(range(test_images.shape[0]), 50)\n",
    "random_test_images = test_images[random_indices]\n",
    "random_test_labels = test_labels[random_indices]\n",
    "\n",
    "# Make predictions for the randomly selected test images\n",
    "random_sample_predictions = loaded_model.predict(random_test_images)\n",
    "random_predicted_labels = np.argmax(random_sample_predictions, axis=1)\n",
    "\n",
    "print(\"Predicted labels for the random 10 test images:\\t\\t\", random_predicted_labels)\n",
    "print(\"True labels for the random 10 test images:\\t\\t\", random_test_labels)"
   ]
  }
 ],
 "metadata": {
  "kernelspec": {
   "display_name": "Python 3 (ipykernel)",
   "language": "python",
   "name": "python3"
  },
  "language_info": {
   "codemirror_mode": {
    "name": "ipython",
    "version": 3
   },
   "file_extension": ".py",
   "mimetype": "text/x-python",
   "name": "python",
   "nbconvert_exporter": "python",
   "pygments_lexer": "ipython3",
   "version": "3.11.5"
  }
 },
 "nbformat": 4,
 "nbformat_minor": 5
}
