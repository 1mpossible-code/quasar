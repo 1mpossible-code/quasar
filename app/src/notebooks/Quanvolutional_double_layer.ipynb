{
 "cells": [
  {
   "cell_type": "code",
   "execution_count": 1,
   "id": "1385ea21",
   "metadata": {
    "executionInfo": {
     "elapsed": 9,
     "status": "ok",
     "timestamp": 1695784647059,
     "user": {
      "displayName": "Yufei Zhen",
      "userId": "17430544577157358937"
     },
     "user_tz": 240
    },
    "id": "1385ea21"
   },
   "outputs": [],
   "source": [
    "import pennylane as qml\n",
    "from pennylane import numpy as np\n",
    "from pennylane.templates import RandomLayers\n",
    "import tensorflow as tf\n",
    "from tensorflow import keras\n",
    "import matplotlib.pyplot as plt"
   ]
  },
  {
   "cell_type": "code",
   "execution_count": 2,
   "id": "c90cbd65",
   "metadata": {
    "executionInfo": {
     "elapsed": 7,
     "status": "ok",
     "timestamp": 1695784647060,
     "user": {
      "displayName": "Yufei Zhen",
      "userId": "17430544577157358937"
     },
     "user_tz": 240
    },
    "id": "c90cbd65"
   },
   "outputs": [],
   "source": [
    "# # Load the recycled dataset\n",
    "train_data = np.load('./dataset/recycled_32_train.npz')\n",
    "test_data = np.load('./dataset/recycled_32_test.npz')\n",
    "# train_data = np.load(\"/content/drive/MyDrive/hAQathon/dataset/recycled_32_train.npz\")\n",
    "# test_data = np.load(\"/content/drive/MyDrive/hAQathon/dataset/recycled_32_test.npz\")\n",
    "\n",
    "x_train = train_data['x']\n",
    "y_train = train_data['y']\n",
    "x_test = test_data['x']\n",
    "y_test = test_data['y']\n",
    "\n",
    "# Preprocess the data\n",
    "x_train = x_train / 255.0\n",
    "x_test = x_test / 255.0\n",
    "\n",
    "# Reshape the data\n",
    "x_train = x_train.reshape(x_train.shape[0], 32, 32, 3)\n",
    "\n",
    "x_test = x_test.reshape(x_test.shape[0], 32, 32, 3)"
   ]
  },
  {
   "cell_type": "code",
   "execution_count": 3,
   "id": "55b7ae56",
   "metadata": {
    "executionInfo": {
     "elapsed": 6,
     "status": "ok",
     "timestamp": 1695784647060,
     "user": {
      "displayName": "Yufei Zhen",
      "userId": "17430544577157358937"
     },
     "user_tz": 240
    },
    "id": "55b7ae56"
   },
   "outputs": [],
   "source": [
    "# Random circuit parameters\n",
    "n_epochs = 50   # Number of optimization epochs\n",
    "n_layers = 1    # Number of random layers\n",
    "n_train = 50    # Size of the train dataset\n",
    "n_test = 30     # Size of the test dataset\n",
    "n_qubits = 16\n",
    "\n",
    "dev = qml.device(\"default.qubit\", wires=n_qubits)\n",
    "rand_params = np.random.uniform(high=2 * np.pi, size=(n_layers, n_qubits))\n",
    "\n",
    "\n",
    "@qml.qnode(dev, interface=\"autograd\")\n",
    "def circuit(phi):\n",
    "    # Encoding of 4 classical input values\n",
    "    for j in range(n_qubits):\n",
    "        qml.RY(np.pi * phi[j], wires=j)\n",
    "\n",
    "    # Random quantum circuit\n",
    "    RandomLayers(rand_params, wires=list(range(n_qubits)))\n",
    "\n",
    "    # Measurement producing 4 classical output values\n",
    "    return [qml.expval(qml.PauliZ(j)) for j in range(n_qubits)]"
   ]
  },
  {
   "cell_type": "code",
   "execution_count": 4,
   "id": "229a96cb",
   "metadata": {
    "executionInfo": {
     "elapsed": 8,
     "status": "ok",
     "timestamp": 1695784647606,
     "user": {
      "displayName": "Yufei Zhen",
      "userId": "17430544577157358937"
     },
     "user_tz": 240
    },
    "id": "229a96cb"
   },
   "outputs": [],
   "source": [
    "def quanv(image):\n",
    "    \"\"\"Convolves the input image with many applications of the same quantum circuit.\"\"\"\n",
    "    out = np.zeros((16, 16, n_qubits))\n",
    "\n",
    "    # Loop over the coordinates of the top-left pixel of 2X2 squares\n",
    "    for j in range(0, 32, int(n_qubits**(0.5))):\n",
    "        for k in range(0, 32, int(n_qubits**(0.5))):\n",
    "            # Process a squared 2x2 region of the image with a quantum circuit\n",
    "            q_results = circuit(\n",
    "                [\n",
    "                    image[j, k, 0],\n",
    "                    image[j, k + 1, 0],\n",
    "                    image[j, k + 2, 0],\n",
    "                    image[j, k + 3, 0],\n",
    "                    image[j + 1, k, 0],\n",
    "                    image[j + 1, k + 1, 0],\n",
    "                    image[j + 1, k + 2, 0],\n",
    "                    image[j + 1, k + 3, 0],\n",
    "                    image[j + 2, k, 0],\n",
    "                    image[j + 2, k + 1, 0],\n",
    "                    image[j + 2, k + 2, 0],\n",
    "                    image[j + 2, k + 3, 0],\n",
    "                    image[j + 3, k, 0],\n",
    "                    image[j + 3, k + 1, 0],\n",
    "                    image[j + 3, k + 2, 0],\n",
    "                    image[j + 3, k + 3, 0],\n",
    "                ]\n",
    "            )\n",
    "            # Assign expectation values to different channels of the output pixel (j/2, k/2)\n",
    "            for c in range(n_qubits):\n",
    "                out[j // 2, k // 2, c] = q_results[c]\n",
    "    return out"
   ]
  },
  {
   "cell_type": "code",
   "execution_count": 5,
   "id": "bX7xG3NsoPWT",
   "metadata": {
    "executionInfo": {
     "elapsed": 8,
     "status": "ok",
     "timestamp": 1695784647607,
     "user": {
      "displayName": "Yufei Zhen",
      "userId": "17430544577157358937"
     },
     "user_tz": 240
    },
    "id": "bX7xG3NsoPWT"
   },
   "outputs": [],
   "source": [
    "train_size = 10000\n",
    "test_size = 1500"
   ]
  },
  {
   "cell_type": "code",
   "execution_count": 6,
   "id": "62d734c1",
   "metadata": {
    "colab": {
     "base_uri": "https://localhost:8080/"
    },
    "id": "62d734c1",
    "outputId": "df738a5f-096b-41f7-b780-eab337093cef"
   },
   "outputs": [
    {
     "name": "stdout",
     "output_type": "stream",
     "text": [
      "Quantum pre-processing of train images:\n",
      "10000/10000        \n",
      "Quantum pre-processing of test images:\n",
      "1500/1500        \r"
     ]
    }
   ],
   "source": [
    "SAVE_PATH = \"quanvolution/\"\n",
    "PREPROCESS = False\n",
    "\n",
    "if PREPROCESS:\n",
    "    q_train_images = []\n",
    "    print(\"Quantum pre-processing of train images:\")\n",
    "    for idx, img in enumerate(x_train):\n",
    "        print(\"{}/{}        \".format(idx + 1, 10000), end=\"\\r\")\n",
    "        q_train_images.append(quanv(img))\n",
    "    q_train_images = np.asarray(q_train_images)\n",
    "\n",
    "    q_test_images = []\n",
    "    print(\"\\nQuantum pre-processing of test images:\")\n",
    "    for idx, img in enumerate(x_test):\n",
    "        print(\"{}/{}        \".format(idx + 1, 1500), end=\"\\r\")\n",
    "        q_test_images.append(quanv(img))\n",
    "    q_test_images = np.asarray(q_test_images)\n",
    "\n",
    "    # Save pre-processed images\n",
    "    np.save(SAVE_PATH + \"q_train_images.npy\", q_train_images)\n",
    "    np.save(SAVE_PATH + \"q_test_images.npy\", q_test_images)\n",
    "\n",
    "\n",
    "# Load pre-processed images\n",
    "q_train_images = np.load(SAVE_PATH + \"q_train_images.npy\")\n",
    "q_test_images = np.load(SAVE_PATH + \"q_test_images.npy\")"
   ]
  },
  {
   "cell_type": "code",
   "execution_count": 8,
   "id": "c0c60865",
   "metadata": {},
   "outputs": [],
   "source": [
    "# SAVE_PATH = \"quanvolution/\"\n",
    "# np.save(SAVE_PATH + \"q_train_images.npy\", q_train_images)\n",
    "# np.save(SAVE_PATH + \"q_test_images.npy\", q_test_images)"
   ]
  },
  {
   "cell_type": "code",
   "execution_count": 4,
   "id": "36f93efe",
   "metadata": {},
   "outputs": [],
   "source": [
    "# SAVE_PATH = \"quanvolution/\"\n",
    "# q_train_images = np.load(SAVE_PATH + \"q_train_images.npy\")\n",
    "# q_test_images = np.load(SAVE_PATH + \"q_test_images.npy\")"
   ]
  },
  {
   "cell_type": "code",
   "execution_count": 10,
   "id": "a173e970",
   "metadata": {
    "id": "a173e970"
   },
   "outputs": [],
   "source": [
    "# Compile the model\n",
    "def MyModel():\n",
    "    \"\"\"Initializes and returns a custom Keras model\n",
    "    which is ready to be trained.\"\"\"\n",
    "    model = keras.models.Sequential([\n",
    "        keras.layers.Flatten(),\n",
    "        keras.layers.Dense(128, activation=\"relu\"),\n",
    "        keras.layers.Dense(6, activation=\"softmax\")\n",
    "    ])\n",
    "\n",
    "    model.compile(\n",
    "        optimizer='adam',\n",
    "        loss=\"sparse_categorical_crossentropy\",\n",
    "        metrics=[\"accuracy\"],\n",
    "    )\n",
    "    return model"
   ]
  },
  {
   "cell_type": "code",
   "execution_count": 11,
   "id": "775b57e1",
   "metadata": {
    "id": "775b57e1"
   },
   "outputs": [
    {
     "name": "stdout",
     "output_type": "stream",
     "text": [
      "Epoch 1/50\n",
      "313/313 - 0s - loss: 1.0999 - accuracy: 0.5535 - val_loss: 1.0144 - val_accuracy: 0.5847 - 430ms/epoch - 1ms/step\n",
      "Epoch 2/50\n",
      "313/313 - 0s - loss: 0.8439 - accuracy: 0.6613 - val_loss: 0.8296 - val_accuracy: 0.6513 - 278ms/epoch - 887us/step\n",
      "Epoch 3/50\n",
      "313/313 - 0s - loss: 0.7352 - accuracy: 0.7138 - val_loss: 0.7186 - val_accuracy: 0.7133 - 313ms/epoch - 1ms/step\n",
      "Epoch 4/50\n",
      "313/313 - 0s - loss: 0.6635 - accuracy: 0.7379 - val_loss: 0.7077 - val_accuracy: 0.7040 - 265ms/epoch - 846us/step\n",
      "Epoch 5/50\n",
      "313/313 - 0s - loss: 0.6084 - accuracy: 0.7647 - val_loss: 0.6523 - val_accuracy: 0.7267 - 264ms/epoch - 843us/step\n",
      "Epoch 6/50\n",
      "313/313 - 0s - loss: 0.5716 - accuracy: 0.7755 - val_loss: 0.6624 - val_accuracy: 0.7307 - 265ms/epoch - 847us/step\n",
      "Epoch 7/50\n",
      "313/313 - 0s - loss: 0.5372 - accuracy: 0.7907 - val_loss: 0.6177 - val_accuracy: 0.7620 - 264ms/epoch - 843us/step\n",
      "Epoch 8/50\n",
      "313/313 - 0s - loss: 0.5153 - accuracy: 0.8034 - val_loss: 0.6058 - val_accuracy: 0.7400 - 262ms/epoch - 838us/step\n",
      "Epoch 9/50\n",
      "313/313 - 0s - loss: 0.4845 - accuracy: 0.8162 - val_loss: 0.6249 - val_accuracy: 0.7413 - 264ms/epoch - 843us/step\n",
      "Epoch 10/50\n",
      "313/313 - 0s - loss: 0.4607 - accuracy: 0.8224 - val_loss: 0.6096 - val_accuracy: 0.7520 - 264ms/epoch - 843us/step\n",
      "Epoch 11/50\n",
      "313/313 - 0s - loss: 0.4483 - accuracy: 0.8280 - val_loss: 0.5629 - val_accuracy: 0.7847 - 264ms/epoch - 842us/step\n",
      "Epoch 12/50\n",
      "313/313 - 0s - loss: 0.4178 - accuracy: 0.8393 - val_loss: 0.5487 - val_accuracy: 0.7820 - 266ms/epoch - 850us/step\n",
      "Epoch 13/50\n",
      "313/313 - 0s - loss: 0.3996 - accuracy: 0.8444 - val_loss: 0.5484 - val_accuracy: 0.7853 - 265ms/epoch - 845us/step\n",
      "Epoch 14/50\n",
      "313/313 - 0s - loss: 0.3841 - accuracy: 0.8534 - val_loss: 0.5569 - val_accuracy: 0.7933 - 263ms/epoch - 839us/step\n",
      "Epoch 15/50\n",
      "313/313 - 0s - loss: 0.3762 - accuracy: 0.8564 - val_loss: 0.5656 - val_accuracy: 0.7887 - 266ms/epoch - 851us/step\n",
      "Epoch 16/50\n",
      "313/313 - 0s - loss: 0.3512 - accuracy: 0.8685 - val_loss: 0.5325 - val_accuracy: 0.7933 - 267ms/epoch - 853us/step\n",
      "Epoch 17/50\n",
      "313/313 - 0s - loss: 0.3426 - accuracy: 0.8693 - val_loss: 0.5642 - val_accuracy: 0.7813 - 265ms/epoch - 846us/step\n",
      "Epoch 18/50\n",
      "313/313 - 0s - loss: 0.3233 - accuracy: 0.8774 - val_loss: 0.5350 - val_accuracy: 0.7920 - 265ms/epoch - 845us/step\n",
      "Epoch 19/50\n",
      "313/313 - 0s - loss: 0.3096 - accuracy: 0.8846 - val_loss: 0.5091 - val_accuracy: 0.8067 - 263ms/epoch - 842us/step\n",
      "Epoch 20/50\n",
      "313/313 - 0s - loss: 0.3047 - accuracy: 0.8872 - val_loss: 0.5681 - val_accuracy: 0.7840 - 266ms/epoch - 850us/step\n",
      "Epoch 21/50\n",
      "313/313 - 0s - loss: 0.2929 - accuracy: 0.8891 - val_loss: 0.5600 - val_accuracy: 0.7913 - 264ms/epoch - 842us/step\n",
      "Epoch 22/50\n",
      "313/313 - 0s - loss: 0.2749 - accuracy: 0.8984 - val_loss: 0.5445 - val_accuracy: 0.7960 - 264ms/epoch - 842us/step\n",
      "Epoch 23/50\n",
      "313/313 - 0s - loss: 0.2734 - accuracy: 0.8964 - val_loss: 0.5555 - val_accuracy: 0.7967 - 264ms/epoch - 844us/step\n",
      "Epoch 24/50\n",
      "313/313 - 0s - loss: 0.2555 - accuracy: 0.9090 - val_loss: 0.6132 - val_accuracy: 0.7760 - 263ms/epoch - 840us/step\n",
      "Epoch 25/50\n",
      "313/313 - 0s - loss: 0.2498 - accuracy: 0.9076 - val_loss: 0.5593 - val_accuracy: 0.8020 - 264ms/epoch - 843us/step\n",
      "Epoch 26/50\n",
      "313/313 - 0s - loss: 0.2416 - accuracy: 0.9151 - val_loss: 0.5696 - val_accuracy: 0.7980 - 265ms/epoch - 848us/step\n",
      "Epoch 27/50\n",
      "313/313 - 0s - loss: 0.2315 - accuracy: 0.9164 - val_loss: 0.5396 - val_accuracy: 0.8067 - 265ms/epoch - 846us/step\n",
      "Epoch 28/50\n",
      "313/313 - 0s - loss: 0.2229 - accuracy: 0.9202 - val_loss: 0.5901 - val_accuracy: 0.7947 - 264ms/epoch - 844us/step\n",
      "Epoch 29/50\n",
      "313/313 - 0s - loss: 0.2173 - accuracy: 0.9201 - val_loss: 0.5820 - val_accuracy: 0.8027 - 265ms/epoch - 846us/step\n",
      "Epoch 30/50\n",
      "313/313 - 0s - loss: 0.2087 - accuracy: 0.9264 - val_loss: 0.5700 - val_accuracy: 0.7980 - 265ms/epoch - 848us/step\n",
      "Epoch 31/50\n",
      "313/313 - 0s - loss: 0.2071 - accuracy: 0.9249 - val_loss: 0.5485 - val_accuracy: 0.8087 - 263ms/epoch - 842us/step\n",
      "Epoch 32/50\n",
      "313/313 - 0s - loss: 0.2086 - accuracy: 0.9233 - val_loss: 0.5606 - val_accuracy: 0.8100 - 264ms/epoch - 843us/step\n",
      "Epoch 33/50\n",
      "313/313 - 0s - loss: 0.1903 - accuracy: 0.9336 - val_loss: 0.5920 - val_accuracy: 0.8080 - 264ms/epoch - 844us/step\n",
      "Epoch 34/50\n",
      "313/313 - 0s - loss: 0.1902 - accuracy: 0.9336 - val_loss: 0.6039 - val_accuracy: 0.8040 - 260ms/epoch - 831us/step\n",
      "Epoch 35/50\n",
      "313/313 - 0s - loss: 0.1762 - accuracy: 0.9380 - val_loss: 0.5740 - val_accuracy: 0.8067 - 257ms/epoch - 820us/step\n",
      "Epoch 36/50\n",
      "313/313 - 0s - loss: 0.1724 - accuracy: 0.9363 - val_loss: 0.5632 - val_accuracy: 0.8160 - 263ms/epoch - 841us/step\n",
      "Epoch 37/50\n",
      "313/313 - 0s - loss: 0.1610 - accuracy: 0.9447 - val_loss: 0.5760 - val_accuracy: 0.8180 - 263ms/epoch - 841us/step\n",
      "Epoch 38/50\n",
      "313/313 - 0s - loss: 0.1609 - accuracy: 0.9417 - val_loss: 0.6874 - val_accuracy: 0.7953 - 264ms/epoch - 844us/step\n",
      "Epoch 39/50\n",
      "313/313 - 0s - loss: 0.1597 - accuracy: 0.9403 - val_loss: 0.6078 - val_accuracy: 0.8060 - 265ms/epoch - 845us/step\n",
      "Epoch 40/50\n",
      "313/313 - 0s - loss: 0.1547 - accuracy: 0.9433 - val_loss: 0.6733 - val_accuracy: 0.7933 - 269ms/epoch - 860us/step\n",
      "Epoch 41/50\n",
      "313/313 - 0s - loss: 0.1401 - accuracy: 0.9533 - val_loss: 0.6449 - val_accuracy: 0.8187 - 266ms/epoch - 850us/step\n",
      "Epoch 42/50\n",
      "313/313 - 0s - loss: 0.1523 - accuracy: 0.9445 - val_loss: 0.5916 - val_accuracy: 0.8207 - 265ms/epoch - 847us/step\n",
      "Epoch 43/50\n",
      "313/313 - 0s - loss: 0.1412 - accuracy: 0.9501 - val_loss: 0.6001 - val_accuracy: 0.8227 - 266ms/epoch - 850us/step\n",
      "Epoch 44/50\n",
      "313/313 - 0s - loss: 0.1310 - accuracy: 0.9541 - val_loss: 0.6152 - val_accuracy: 0.8127 - 284ms/epoch - 909us/step\n",
      "Epoch 45/50\n",
      "313/313 - 0s - loss: 0.1395 - accuracy: 0.9515 - val_loss: 0.6166 - val_accuracy: 0.8153 - 259ms/epoch - 828us/step\n",
      "Epoch 46/50\n",
      "313/313 - 0s - loss: 0.1255 - accuracy: 0.9568 - val_loss: 0.6631 - val_accuracy: 0.8133 - 255ms/epoch - 816us/step\n",
      "Epoch 47/50\n",
      "313/313 - 0s - loss: 0.1328 - accuracy: 0.9524 - val_loss: 0.6122 - val_accuracy: 0.8173 - 258ms/epoch - 823us/step\n",
      "Epoch 48/50\n",
      "313/313 - 0s - loss: 0.1256 - accuracy: 0.9544 - val_loss: 0.6488 - val_accuracy: 0.8060 - 264ms/epoch - 845us/step\n",
      "Epoch 49/50\n",
      "313/313 - 0s - loss: 0.1132 - accuracy: 0.9598 - val_loss: 0.6926 - val_accuracy: 0.8007 - 261ms/epoch - 833us/step\n",
      "Epoch 50/50\n",
      "313/313 - 0s - loss: 0.1098 - accuracy: 0.9621 - val_loss: 0.6475 - val_accuracy: 0.8087 - 264ms/epoch - 844us/step\n"
     ]
    }
   ],
   "source": [
    "# Step 2: Training\n",
    "q_model = MyModel()\n",
    "\n",
    "q_history = q_model.fit(\n",
    "    q_train_images,\n",
    "    y_train,\n",
    "    validation_data=(q_test_images, y_test),\n",
    "    batch_size=32,\n",
    "    epochs=n_epochs,\n",
    "    verbose=2,\n",
    ")"
   ]
  },
  {
   "cell_type": "code",
   "execution_count": 12,
   "id": "9a0ff8a2",
   "metadata": {
    "id": "9a0ff8a2"
   },
   "outputs": [
    {
     "name": "stdout",
     "output_type": "stream",
     "text": [
      "47/47 [==============================] - 0s 535us/step - loss: 0.6475 - accuracy: 0.8087\n",
      "Loss: 0.6475355625152588\n",
      "Accuracy: 0.8086666464805603\n"
     ]
    }
   ],
   "source": [
    "# Step 3: Evaluation\n",
    "loss, accuracy = q_model.evaluate(q_test_images, y_test)\n",
    "print(\"Loss:\", loss)\n",
    "print(\"Accuracy:\", accuracy)"
   ]
  },
  {
   "cell_type": "code",
   "execution_count": null,
   "id": "ab25a8bb",
   "metadata": {},
   "outputs": [],
   "source": []
  },
  {
   "cell_type": "code",
   "execution_count": null,
   "id": "3b021d8e",
   "metadata": {},
   "outputs": [],
   "source": []
  }
 ],
 "metadata": {
  "accelerator": "GPU",
  "colab": {
   "gpuType": "T4",
   "provenance": []
  },
  "kernelspec": {
   "display_name": "Python 3 (ipykernel)",
   "language": "python",
   "name": "python3"
  },
  "language_info": {
   "codemirror_mode": {
    "name": "ipython",
    "version": 3
   },
   "file_extension": ".py",
   "mimetype": "text/x-python",
   "name": "python",
   "nbconvert_exporter": "python",
   "pygments_lexer": "ipython3",
   "version": "3.11.5"
  }
 },
 "nbformat": 4,
 "nbformat_minor": 5
}
