{
 "cells": [
  {
   "cell_type": "code",
   "execution_count": 1,
   "id": "1385ea21",
   "metadata": {
    "executionInfo": {
     "elapsed": 9,
     "status": "ok",
     "timestamp": 1695784647059,
     "user": {
      "displayName": "Yufei Zhen",
      "userId": "17430544577157358937"
     },
     "user_tz": 240
    },
    "id": "1385ea21"
   },
   "outputs": [],
   "source": [
    "import pennylane as qml\n",
    "from pennylane import numpy as np\n",
    "from pennylane.templates import RandomLayers\n",
    "import tensorflow as tf\n",
    "from tensorflow import keras\n",
    "import matplotlib.pyplot as plt"
   ]
  },
  {
   "cell_type": "markdown",
   "id": "e577193f",
   "metadata": {
    "pycharm": {
     "name": "#%% md\n"
    }
   },
   "source": [
    "The \"x\" of the dataset contains a two dimension numpy array of uint8, where each\n",
    "row contains a 32x32 coloured image. The picture follows the \"channel first\" rule.\n",
    "\n",
    "The \"y\" of the dataset contains a one dimension numpy array of uint8, where each\n",
    "value indicates the label of corresponding x item.\n"
   ]
  },
  {
   "cell_type": "code",
   "execution_count": 2,
   "id": "c90cbd65",
   "metadata": {
    "executionInfo": {
     "elapsed": 7,
     "status": "ok",
     "timestamp": 1695784647060,
     "user": {
      "displayName": "Yufei Zhen",
      "userId": "17430544577157358937"
     },
     "user_tz": 240
    },
    "id": "c90cbd65"
   },
   "outputs": [],
   "source": [
    "# Load the recycled dataset\n",
    "train_data = np.load('./dataset/recycled_32_train.npz')\n",
    "test_data = np.load('./dataset/recycled_32_test.npz')\n",
    "\n",
    "# split data and labels\n",
    "x_train = train_data['x']\n",
    "y_train = train_data['y']\n",
    "x_test = test_data['x']\n",
    "y_test = test_data['y']\n",
    "\n",
    "# Preprocess the data\n",
    "x_train = x_train / 255.0\n",
    "x_test = x_test / 255.0\n",
    "The \"x\" of the dataset contains a two dimension numpy array of uint8, where each\n",
    "row contains a 32x32 coloured image. The picture follows the \"channel first\" rule.\n",
    "\n",
    "The \"y\" of the dataset contains a one dimension numpy array of uint8, where each\n",
    "value indicates the label of corresponding x item.\n",
    "\n",
    "# Reshape the data\n",
    "x_train = x_train.reshape(x_train.shape[0], 32, 32, 3)\n",
    "\n",
    "x_test = x_test.reshape(x_test.shape[0], 32, 32, 3)"
   ]
  },
  {
   "cell_type": "markdown",
   "id": "103d9728",
   "metadata": {
    "pycharm": {
     "name": "#%% md\n"
    }
   },
   "source": [
    "We use default.qubit device to simulate the quantum circuit\n",
    "Q"
   ]
  },
  {
   "cell_type": "code",
   "execution_count": 3,
   "id": "55b7ae56",
   "metadata": {
    "executionInfo": {
     "elapsed": 6,
     "status": "ok",
     "timestamp": 1695784647060,
     "user": {
      "displayName": "Yufei Zhen",
      "userId": "17430544577157358937"
     },
     "user_tz": 240
    },
    "id": "55b7ae56"
   },
   "outputs": [],
   "source": [
    "n_epochs = 50   # Number of optimization epochs\n",
    "n_layers = 1    # Number of random layers\n",
    "n_train = 10000 # Size of training dataset\n",
    "n_test = 1500   # Size of testing dataset\n",
    "n_qubits = 4    # Number of qubits used\n",
    "\n",
    "# use a simple state simulator of qubit-based quantum circuit architectures as device\n",
    "dev = qml.device(\"default.qubit\", wires=n_qubits)\n",
    "\n",
    "# Random circuit parameters\n",
    "rand_params = np.random.uniform(high=2 * np.pi, size=(n_layers, n_qubits))\n",
    "\n",
    "@qml.qnode(dev, interface=\"autograd\")\n",
    "def circuit(phi):\n",
    "    # Encoding of 4 classical input values\n",
    "    for j in range(n_qubits):\n",
    "        qml.RY(np.pi * phi[j], wires=j)\n",
    "\n",
    "    # Random quantum circuit\n",
    "    RandomLayers(rand_params, wires=list(range(n_qubits)))\n",
    "\n",
    "    # Measurement producing 4 classical output values\n",
    "    return [qml.expval(qml.PauliZ(j)) for j in range(n_qubits)]"
   ]
  },
  {
   "cell_type": "code",
   "execution_count": 4,
   "id": "229a96cb",
   "metadata": {
    "executionInfo": {
     "elapsed": 8,
     "status": "ok",
     "timestamp": 1695784647606,
     "user": {
      "displayName": "Yufei Zhen",
      "userId": "17430544577157358937"
     },
     "user_tz": 240
    },
    "id": "229a96cb"
   },
   "outputs": [],
   "source": [
    "def quanv(image):\n",
    "    # Convolves the input image with many applications of the same quantum circuit.\n",
    "    out = np.zeros((16, 16, n_qubits))\n",
    "\n",
    "    # Loop over the coordinates of the top-left pixel of 2 by 2 squares\n",
    "    for j in range(0, 32, int(n_qubits**(0.5))):\n",
    "        for k in range(0, 32, int(n_qubits**(0.5))):\n",
    "            # Process a squared 2 by 2 region of the image with a quantum circuit\n",
    "            q_results = circuit(\n",
    "                [\n",
    "                    image[j, k, 0],\n",
    "                    image[j, k + 1, 0],\n",
    "                    image[j + 1, k, 0],\n",
    "                    image[j + 1, k + 1, 0]\n",
    "                ]\n",
    "            )\n",
    "            # Assign expectation values to different channels of the output pixel (j/2, k/2)\n",
    "            for c in range(n_qubits):\n",
    "                out[j // 2, k // 2, c] = q_results[c]\n",
    "    return out"
   ]
  },
  {
   "cell_type": "code",
   "execution_count": 5,
   "id": "62d734c1",
   "metadata": {
    "colab": {
     "base_uri": "https://localhost:8080/"
    },
    "id": "62d734c1",
    "outputId": "df738a5f-096b-41f7-b780-eab337093cef"
   },
   "outputs": [],
   "source": [
    "SAVE_PATH = \"quanvolution/\" # save path\n",
    "\n",
    "# if already preprocessed, change to True, otherwise change to False\n",
    "PREPROCESS = False\n",
    "\n",
    "if PREPROCESS:\n",
    "    q_train_images = []\n",
    "    print(\"Quantum pre-processing of train images:\")\n",
    "    for idx, img in enumerate(x_train):\n",
    "        print(\"{}/{}        \".format(idx + 1, n_train), end=\"\\r\")\n",
    "        q_train_images.append(quanv(img))\n",
    "    q_train_images = np.asarray(q_train_images)\n",
    "\n",
    "    q_test_images = []\n",
    "    print(\"\\nQuantum pre-processing of test images:\")\n",
    "    for idx, img in enumerate(x_test):\n",
    "        print(\"{}/{}        \".format(idx + 1, n_test), end=\"\\r\")\n",
    "        q_test_images.append(quanv(img))\n",
    "    q_test_images = np.asarray(q_test_images)\n",
    "\n",
    "    # Save pre-processed images\n",
    "    np.save(SAVE_PATH + \"q_train_images.npy\", q_train_images)\n",
    "    np.save(SAVE_PATH + \"q_test_images.npy\", q_test_images)\n",
    "\n",
    "\n",
    "# Load pre-processed images\n",
    "q_train_images = np.load(SAVE_PATH + \"q_train_images.npy\")\n",
    "q_test_images = np.load(SAVE_PATH + \"q_test_images.npy\")"
   ]
  },
  {
   "cell_type": "code",
   "execution_count": 6,
   "id": "a173e970",
   "metadata": {
    "id": "a173e970"
   },
   "outputs": [],
   "source": [
    "# Step 1: Compile\n",
    "def MyModel():\n",
    "    model = keras.models.Sequential([\n",
    "        keras.layers.Flatten(),\n",
    "        keras.layers.Dense(256, activation=\"relu\"),\n",
    "        keras.layers.Dense(5, activation=\"softmax\"),\n",
    "    ])\n",
    "    \n",
    "    model.compile(\n",
    "        optimizer=\"adam\",\n",
    "        loss=\"sparse_categorical_crossentropy\",\n",
    "        metrics=[\"accuracy\"],\n",
    "    )\n",
    "    return model"
   ]
  },
  {
   "cell_type": "code",
   "execution_count": 10,
   "id": "775b57e1",
   "metadata": {
    "id": "775b57e1"
   },
   "outputs": [
    {
     "name": "stdout",
     "output_type": "stream",
     "text": [
      "Epoch 1/50\n",
      "313/313 - 0s - loss: 1.0278 - accuracy: 0.5847 - val_loss: 0.8528 - val_accuracy: 0.6393 - 302ms/epoch - 963us/step\n",
      "Epoch 2/50\n",
      "313/313 - 0s - loss: 0.7262 - accuracy: 0.7179 - val_loss: 0.7095 - val_accuracy: 0.7160 - 182ms/epoch - 580us/step\n",
      "Epoch 3/50\n",
      "313/313 - 0s - loss: 0.6218 - accuracy: 0.7616 - val_loss: 0.6949 - val_accuracy: 0.7180 - 183ms/epoch - 584us/step\n",
      "Epoch 4/50\n",
      "313/313 - 0s - loss: 0.5622 - accuracy: 0.7832 - val_loss: 0.6204 - val_accuracy: 0.7427 - 180ms/epoch - 576us/step\n",
      "Epoch 5/50\n",
      "313/313 - 0s - loss: 0.5015 - accuracy: 0.8078 - val_loss: 0.5893 - val_accuracy: 0.7580 - 180ms/epoch - 574us/step\n",
      "Epoch 6/50\n",
      "313/313 - 0s - loss: 0.4560 - accuracy: 0.8288 - val_loss: 0.5564 - val_accuracy: 0.7847 - 180ms/epoch - 574us/step\n",
      "Epoch 7/50\n",
      "313/313 - 0s - loss: 0.4260 - accuracy: 0.8384 - val_loss: 0.5315 - val_accuracy: 0.7967 - 180ms/epoch - 576us/step\n",
      "Epoch 8/50\n",
      "313/313 - 0s - loss: 0.3958 - accuracy: 0.8495 - val_loss: 0.5235 - val_accuracy: 0.7920 - 180ms/epoch - 574us/step\n",
      "Epoch 9/50\n",
      "313/313 - 0s - loss: 0.3602 - accuracy: 0.8680 - val_loss: 0.5389 - val_accuracy: 0.8013 - 192ms/epoch - 614us/step\n",
      "Epoch 10/50\n",
      "313/313 - 0s - loss: 0.3395 - accuracy: 0.8732 - val_loss: 0.5289 - val_accuracy: 0.7933 - 181ms/epoch - 579us/step\n",
      "Epoch 11/50\n",
      "313/313 - 0s - loss: 0.3094 - accuracy: 0.8871 - val_loss: 0.5127 - val_accuracy: 0.8047 - 179ms/epoch - 572us/step\n",
      "Epoch 12/50\n",
      "313/313 - 0s - loss: 0.2969 - accuracy: 0.8866 - val_loss: 0.5160 - val_accuracy: 0.8080 - 171ms/epoch - 546us/step\n",
      "Epoch 13/50\n",
      "313/313 - 0s - loss: 0.2696 - accuracy: 0.9012 - val_loss: 0.4837 - val_accuracy: 0.8213 - 174ms/epoch - 555us/step\n",
      "Epoch 14/50\n",
      "313/313 - 0s - loss: 0.2479 - accuracy: 0.9130 - val_loss: 0.5052 - val_accuracy: 0.8107 - 185ms/epoch - 591us/step\n",
      "Epoch 15/50\n",
      "313/313 - 0s - loss: 0.2303 - accuracy: 0.9154 - val_loss: 0.4969 - val_accuracy: 0.8213 - 182ms/epoch - 581us/step\n",
      "Epoch 16/50\n",
      "313/313 - 0s - loss: 0.2180 - accuracy: 0.9201 - val_loss: 0.4790 - val_accuracy: 0.8240 - 178ms/epoch - 570us/step\n",
      "Epoch 17/50\n",
      "313/313 - 0s - loss: 0.2073 - accuracy: 0.9257 - val_loss: 0.5518 - val_accuracy: 0.8060 - 176ms/epoch - 563us/step\n",
      "Epoch 18/50\n",
      "313/313 - 0s - loss: 0.1932 - accuracy: 0.9303 - val_loss: 0.5324 - val_accuracy: 0.8180 - 179ms/epoch - 571us/step\n",
      "Epoch 19/50\n",
      "313/313 - 0s - loss: 0.1795 - accuracy: 0.9368 - val_loss: 0.5217 - val_accuracy: 0.8160 - 180ms/epoch - 576us/step\n",
      "Epoch 20/50\n",
      "313/313 - 0s - loss: 0.1691 - accuracy: 0.9398 - val_loss: 0.5170 - val_accuracy: 0.8147 - 178ms/epoch - 568us/step\n",
      "Epoch 21/50\n",
      "313/313 - 0s - loss: 0.1561 - accuracy: 0.9472 - val_loss: 0.5168 - val_accuracy: 0.8347 - 180ms/epoch - 575us/step\n",
      "Epoch 22/50\n",
      "313/313 - 0s - loss: 0.1563 - accuracy: 0.9437 - val_loss: 0.5507 - val_accuracy: 0.8200 - 176ms/epoch - 562us/step\n",
      "Epoch 23/50\n",
      "313/313 - 0s - loss: 0.1337 - accuracy: 0.9555 - val_loss: 0.6126 - val_accuracy: 0.8100 - 180ms/epoch - 574us/step\n",
      "Epoch 24/50\n",
      "313/313 - 0s - loss: 0.1274 - accuracy: 0.9585 - val_loss: 0.5610 - val_accuracy: 0.8220 - 180ms/epoch - 575us/step\n",
      "Epoch 25/50\n",
      "313/313 - 0s - loss: 0.1163 - accuracy: 0.9611 - val_loss: 0.5870 - val_accuracy: 0.8187 - 180ms/epoch - 574us/step\n",
      "Epoch 26/50\n",
      "313/313 - 0s - loss: 0.1156 - accuracy: 0.9608 - val_loss: 0.6144 - val_accuracy: 0.8127 - 180ms/epoch - 576us/step\n",
      "Epoch 27/50\n",
      "313/313 - 0s - loss: 0.1108 - accuracy: 0.9657 - val_loss: 0.5553 - val_accuracy: 0.8280 - 178ms/epoch - 570us/step\n",
      "Epoch 28/50\n",
      "313/313 - 0s - loss: 0.1092 - accuracy: 0.9617 - val_loss: 0.6262 - val_accuracy: 0.8167 - 178ms/epoch - 568us/step\n",
      "Epoch 29/50\n",
      "313/313 - 0s - loss: 0.0924 - accuracy: 0.9688 - val_loss: 0.5775 - val_accuracy: 0.8313 - 182ms/epoch - 581us/step\n",
      "Epoch 30/50\n",
      "313/313 - 0s - loss: 0.0780 - accuracy: 0.9749 - val_loss: 0.6212 - val_accuracy: 0.8300 - 180ms/epoch - 574us/step\n",
      "Epoch 31/50\n",
      "313/313 - 0s - loss: 0.0834 - accuracy: 0.9742 - val_loss: 0.6033 - val_accuracy: 0.8220 - 178ms/epoch - 570us/step\n",
      "Epoch 32/50\n",
      "313/313 - 0s - loss: 0.0753 - accuracy: 0.9753 - val_loss: 0.6194 - val_accuracy: 0.8253 - 178ms/epoch - 569us/step\n",
      "Epoch 33/50\n",
      "313/313 - 0s - loss: 0.0685 - accuracy: 0.9787 - val_loss: 0.6480 - val_accuracy: 0.8253 - 180ms/epoch - 575us/step\n",
      "Epoch 34/50\n",
      "313/313 - 0s - loss: 0.0712 - accuracy: 0.9755 - val_loss: 0.6160 - val_accuracy: 0.8267 - 178ms/epoch - 569us/step\n",
      "Epoch 35/50\n",
      "313/313 - 0s - loss: 0.0623 - accuracy: 0.9808 - val_loss: 0.6288 - val_accuracy: 0.8393 - 179ms/epoch - 572us/step\n",
      "Epoch 36/50\n",
      "313/313 - 0s - loss: 0.0613 - accuracy: 0.9812 - val_loss: 0.6465 - val_accuracy: 0.8227 - 176ms/epoch - 561us/step\n",
      "Epoch 37/50\n",
      "313/313 - 0s - loss: 0.0999 - accuracy: 0.9654 - val_loss: 0.7611 - val_accuracy: 0.8180 - 173ms/epoch - 553us/step\n",
      "Epoch 38/50\n",
      "313/313 - 0s - loss: 0.0642 - accuracy: 0.9790 - val_loss: 0.6503 - val_accuracy: 0.8353 - 181ms/epoch - 580us/step\n",
      "Epoch 39/50\n",
      "313/313 - 0s - loss: 0.0467 - accuracy: 0.9873 - val_loss: 0.6887 - val_accuracy: 0.8227 - 182ms/epoch - 581us/step\n",
      "Epoch 40/50\n",
      "313/313 - 0s - loss: 0.0455 - accuracy: 0.9878 - val_loss: 0.6692 - val_accuracy: 0.8447 - 179ms/epoch - 571us/step\n",
      "Epoch 41/50\n",
      "313/313 - 0s - loss: 0.0403 - accuracy: 0.9909 - val_loss: 0.7509 - val_accuracy: 0.8267 - 199ms/epoch - 634us/step\n",
      "Epoch 42/50\n",
      "313/313 - 0s - loss: 0.0619 - accuracy: 0.9804 - val_loss: 0.8007 - val_accuracy: 0.8127 - 197ms/epoch - 628us/step\n",
      "Epoch 43/50\n",
      "313/313 - 0s - loss: 0.0615 - accuracy: 0.9795 - val_loss: 0.7274 - val_accuracy: 0.8300 - 193ms/epoch - 615us/step\n",
      "Epoch 44/50\n",
      "313/313 - 0s - loss: 0.0552 - accuracy: 0.9826 - val_loss: 0.6768 - val_accuracy: 0.8400 - 210ms/epoch - 672us/step\n",
      "Epoch 45/50\n",
      "313/313 - 0s - loss: 0.0339 - accuracy: 0.9916 - val_loss: 0.7697 - val_accuracy: 0.8273 - 190ms/epoch - 608us/step\n",
      "Epoch 46/50\n",
      "313/313 - 0s - loss: 0.0323 - accuracy: 0.9923 - val_loss: 0.7767 - val_accuracy: 0.8273 - 185ms/epoch - 591us/step\n",
      "Epoch 47/50\n",
      "313/313 - 0s - loss: 0.0504 - accuracy: 0.9830 - val_loss: 0.8721 - val_accuracy: 0.8087 - 193ms/epoch - 616us/step\n",
      "Epoch 48/50\n",
      "313/313 - 0s - loss: 0.0526 - accuracy: 0.9841 - val_loss: 0.7334 - val_accuracy: 0.8313 - 183ms/epoch - 584us/step\n",
      "Epoch 49/50\n",
      "313/313 - 0s - loss: 0.0205 - accuracy: 0.9966 - val_loss: 0.7444 - val_accuracy: 0.8393 - 183ms/epoch - 584us/step\n",
      "Epoch 50/50\n",
      "313/313 - 0s - loss: 0.0227 - accuracy: 0.9945 - val_loss: 0.8199 - val_accuracy: 0.8393 - 184ms/epoch - 589us/step\n",
      "9.348371982574463\n"
     ]
    }
   ],
   "source": [
    "# Step 2: Training\n",
    "import time\n",
    "\n",
    "start = time.time()\n",
    "\n",
    "q_model = MyModel()\n",
    "\n",
    "q_history = q_model.fit(\n",
    "    q_train_images,\n",
    "    y_train,\n",
    "    validation_data=(q_test_images, y_test),\n",
    "    batch_size=32,\n",
    "    epochs=n_epochs,\n",
    "    verbose=2,\n",
    ")\n",
    "\n",
    "print(time.time() - start)"
   ]
  },
  {
   "cell_type": "code",
   "execution_count": 11,
   "id": "9a0ff8a2",
   "metadata": {
    "id": "9a0ff8a2"
   },
   "outputs": [
    {
     "name": "stdout",
     "output_type": "stream",
     "text": [
      "47/47 [==============================] - 0s 645us/step - loss: 0.8199 - accuracy: 0.8393\n",
      "Loss: 0.8199030160903931\n",
      "Accuracy: 0.8393333554267883\n"
     ]
    }
   ],
   "source": [
    "# Step 3: Evaluation\n",
    "loss, accuracy = q_model.evaluate(q_test_images, y_test)\n",
    "print(\"Loss:\", loss)\n",
    "print(\"Accuracy:\", accuracy)"
   ]
  },
  {
   "cell_type": "code",
   "execution_count": 13,
   "id": "d2c83ac5",
   "metadata": {},
   "outputs": [],
   "source": [
    "q_model.save(\"./model/quantum_model.h5\")"
   ]
  },
  {
   "cell_type": "code",
   "execution_count": null,
   "id": "a6ada28a",
   "metadata": {},
   "outputs": [],
   "source": []
  }
 ],
 "metadata": {
  "accelerator": "GPU",
  "colab": {
   "gpuType": "T4",
   "provenance": []
  },
  "kernelspec": {
   "display_name": "Python 3 (ipykernel)",
   "language": "python",
   "name": "python3"
  },
  "language_info": {
   "codemirror_mode": {
    "name": "ipython",
    "version": 3
   },
   "file_extension": ".py",
   "mimetype": "text/x-python",
   "name": "python",
   "nbconvert_exporter": "python",
   "pygments_lexer": "ipython3",
   "version": "3.11.5"
  }
 },
 "nbformat": 4,
 "nbformat_minor": 5
}
