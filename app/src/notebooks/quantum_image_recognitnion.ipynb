{
 "cells": [
  {
   "cell_type": "markdown",
   "metadata": {},
   "source": [
    "# Quantum Computing Image Recognition"
   ]
  },
  {
   "cell_type": "code",
   "execution_count": 1,
   "metadata": {},
   "outputs": [],
   "source": [
    "import numpy as np\n",
    "\n",
    "# Load training data and test data\n",
    "train_dataset = \"./dataset/recycled_32_train.npz\"\n",
    "train_data = np.load(train_dataset)\n",
    "\n",
    "test_dataset = \"./dataset/recycled_32_test.npz\"\n",
    "test_data = np.load(test_dataset)"
   ]
  },
  {
   "cell_type": "markdown",
   "metadata": {},
   "source": [
    "The \"x\" of the dataset contains a two dimension numpy array of uint8, where each\n",
    "row contains a 32x32 coloured image. The picture follows the \"channel first\" rule.\n",
    "\n",
    "The \"y\" of the dataset contains a one dimension numpy array of uint8, where each\n",
    "value indicates the label of corresponding x item.\n"
   ]
  },
  {
   "cell_type": "code",
   "execution_count": 2,
   "metadata": {},
   "outputs": [],
   "source": [
    "# Train data\n",
    "train_images = train_data[\"x\"]\n",
    "train_labels = train_data[\"y\"]\n",
    "\n",
    "# Test data\n",
    "test_images = test_data[\"x\"]\n",
    "test_labels = test_data[\"y\"]"
   ]
  },
  {
   "cell_type": "code",
   "execution_count": 3,
   "metadata": {},
   "outputs": [],
   "source": [
    "# Normalize the data\n",
    "train_images = train_images / 255.0\n",
    "test_images = test_images / 255.0\n",
    "\n",
    "# Reshape the data\n",
    "train_images = train_images.reshape(train_images.shape[0], 32, 32, 3)\n",
    "\n",
    "test_images = test_images.reshape(test_images.shape[0], 32, 32, 3)"
   ]
  },
  {
   "cell_type": "code",
   "execution_count": 5,
   "metadata": {},
   "outputs": [
    {
     "ename": "ModuleNotFoundError",
     "evalue": "No module named 'tensorflow_quantum'",
     "output_type": "error",
     "traceback": [
      "\u001b[0;31m---------------------------------------------------------------------------\u001b[0m",
      "\u001b[0;31mModuleNotFoundError\u001b[0m                       Traceback (most recent call last)",
      "\u001b[1;32m/Users/max/max/projects/quasar/app/src/notebooks/quantum_image_recognitnion.ipynb Cell 6\u001b[0m line \u001b[0;36m4\n\u001b[1;32m      <a href='vscode-notebook-cell:/Users/max/max/projects/quasar/app/src/notebooks/quantum_image_recognitnion.ipynb#W5sZmlsZQ%3D%3D?line=0'>1</a>\u001b[0m \u001b[39m# Build the model using Quantum Convolutional Neural Network\u001b[39;00m\n\u001b[1;32m      <a href='vscode-notebook-cell:/Users/max/max/projects/quasar/app/src/notebooks/quantum_image_recognitnion.ipynb#W5sZmlsZQ%3D%3D?line=2'>3</a>\u001b[0m \u001b[39mimport\u001b[39;00m \u001b[39mtensorflow\u001b[39;00m \u001b[39mas\u001b[39;00m \u001b[39mtf\u001b[39;00m\n\u001b[0;32m----> <a href='vscode-notebook-cell:/Users/max/max/projects/quasar/app/src/notebooks/quantum_image_recognitnion.ipynb#W5sZmlsZQ%3D%3D?line=3'>4</a>\u001b[0m \u001b[39mimport\u001b[39;00m \u001b[39mtensorflow_quantum\u001b[39;00m \u001b[39mas\u001b[39;00m \u001b[39mtfq\u001b[39;00m\n\u001b[1;32m      <a href='vscode-notebook-cell:/Users/max/max/projects/quasar/app/src/notebooks/quantum_image_recognitnion.ipynb#W5sZmlsZQ%3D%3D?line=5'>6</a>\u001b[0m \u001b[39m# Define the qubits and readout operators\u001b[39;00m\n\u001b[1;32m      <a href='vscode-notebook-cell:/Users/max/max/projects/quasar/app/src/notebooks/quantum_image_recognitnion.ipynb#W5sZmlsZQ%3D%3D?line=6'>7</a>\u001b[0m qubits \u001b[39m=\u001b[39m cirq\u001b[39m.\u001b[39mGridQubit\u001b[39m.\u001b[39mrect(\u001b[39m4\u001b[39m, \u001b[39m4\u001b[39m)\n",
      "\u001b[0;31mModuleNotFoundError\u001b[0m: No module named 'tensorflow_quantum'"
     ]
    }
   ],
   "source": [
    "# Build the model using Quantum Convolutional Neural Network\n",
    "\n",
    "import tensorflow as tf\n",
    "import tensorflow_quantum as tfq\n",
    "\n",
    "# Define the qubits and readout operators\n",
    "qubits = cirq.GridQubit.rect(4, 4)\n",
    "readout_operators = [cirq.Z(qubits[-1])]\n",
    "inputs = tf.keras.Input(shape=(), dtype=tf.dtypes.string)\n",
    "circuit_input = tfq.layers.AddCircuit()([inputs, tfq.convert_to_tensor([circuit])])\n",
    "expectation_layer = tfq.layers.Expectation()\n",
    "expectations = expectation_layer(circuit_input)\n",
    "model = tf.keras.Model(inputs=inputs, outputs=expectations)\n",
    "\n",
    "# Define the classical neural network\n",
    "cnn_model = tf.keras.Sequential([\n",
    "    tf.keras.layers.Conv2D(32, (3, 3), activation='relu', input_shape=(32, 32, 3)),\n",
    "    tf.keras.layers.MaxPooling2D((2, 2)),\n",
    "    tf.keras.layers.Conv2D(64, (3, 3), activation='relu'),\n",
    "    tf.keras.layers.MaxPooling2D((2, 2)),\n",
    "    tf.keras.layers.Flatten(),\n",
    "    tf.keras.layers.Dense(64, activation='relu'),\n",
    "    tf.keras.layers.Dense(10)\n",
    "])\n",
    "\n",
    "# Define the quantum neural network\n",
    "quantum_model = tf.keras.Sequential([\n",
    "    tf.keras.layers.Input(shape=(32, 32, 3)),\n",
    "    tf.keras.layers.Conv2D(4, (3, 3), activation='relu'),\n",
    "    tf.keras.layers.Flatten(),\n",
    "    tfq.layers.PQC(circuit, readout_operators)\n",
    "])\n",
    "\n",
    "# Define the hybrid model\n",
    "combined_model = tf.keras.Sequential([\n",
    "    tf.keras.layers.Input(shape=(32, 32, 3)),\n",
    "    tf.keras.layers.Conv2D(4, (3, 3), activation='relu'),\n",
    "    tf.keras.layers.Flatten(),\n",
    "    tf.keras.layers.Dense(64, activation='relu'),\n",
    "    tf.keras.layers.Dense(10)\n",
    "])\n",
    "\n",
    "# Compile the model\n",
    "cnn_model.compile(optimizer='adam',\n",
    "                    loss=tf.keras.losses.SparseCategoricalCrossentropy(from_logits=True),\n",
    "                    metrics=['accuracy'])\n",
    "\n",
    "quantum_model.compile(optimizer='adam',\n",
    "                    loss=tf.keras.losses.SparseCategoricalCrossentropy(from_logits=True),\n",
    "                    metrics=['accuracy'])\n",
    "\n",
    "combined_model.compile(optimizer='adam',\n",
    "                    loss=tf.keras.losses.SparseCategoricalCrossentropy(from_logits=True),\n",
    "                    metrics=['accuracy'])\n"
   ]
  },
  {
   "cell_type": "code",
   "execution_count": 4,
   "metadata": {},
   "outputs": [
    {
     "ename": "NameError",
     "evalue": "name 'cnn_model' is not defined",
     "output_type": "error",
     "traceback": [
      "\u001b[0;31m---------------------------------------------------------------------------\u001b[0m",
      "\u001b[0;31mNameError\u001b[0m                                 Traceback (most recent call last)",
      "\u001b[1;32m/Users/max/max/projects/quasar/app/src/notebooks/quantum_image_recognitnion.ipynb Cell 7\u001b[0m line \u001b[0;36m2\n\u001b[1;32m      <a href='vscode-notebook-cell:/Users/max/max/projects/quasar/app/src/notebooks/quantum_image_recognitnion.ipynb#W6sZmlsZQ%3D%3D?line=0'>1</a>\u001b[0m \u001b[39m# Train the classical model\u001b[39;00m\n\u001b[0;32m----> <a href='vscode-notebook-cell:/Users/max/max/projects/quasar/app/src/notebooks/quantum_image_recognitnion.ipynb#W6sZmlsZQ%3D%3D?line=1'>2</a>\u001b[0m cnn_model\u001b[39m.\u001b[39mfit(train_images, train_labels, epochs\u001b[39m=\u001b[39m\u001b[39m10\u001b[39m,\n\u001b[1;32m      <a href='vscode-notebook-cell:/Users/max/max/projects/quasar/app/src/notebooks/quantum_image_recognitnion.ipynb#W6sZmlsZQ%3D%3D?line=2'>3</a>\u001b[0m                 validation_data\u001b[39m=\u001b[39m(test_images, test_labels))\n",
      "\u001b[0;31mNameError\u001b[0m: name 'cnn_model' is not defined"
     ]
    }
   ],
   "source": [
    "# Train the classical model\n",
    "cnn_model.fit(train_images, train_labels, epochs=10,\n",
    "                validation_data=(test_images, test_labels))"
   ]
  },
  {
   "cell_type": "code",
   "execution_count": null,
   "metadata": {},
   "outputs": [],
   "source": [
    "# Train the quantum model\n",
    "quantum_model.fit(train_images, train_labels, epochs=10,\n",
    "                validation_data=(test_images, test_labels))"
   ]
  },
  {
   "cell_type": "code",
   "execution_count": null,
   "metadata": {},
   "outputs": [],
   "source": [
    "# Train the hybrid model\n",
    "combined_model.fit(train_images, train_labels, epochs=10,\n",
    "                validation_data=(test_images, test_labels))"
   ]
  },
  {
   "cell_type": "code",
   "execution_count": null,
   "metadata": {},
   "outputs": [],
   "source": [
    "# Evaluate the classical model\n",
    "test_loss, test_acc = cnn_model.evaluate(test_images,  test_labels, verbose=2)\n",
    "\n",
    "# Evaluate the quantum model\n",
    "\n",
    "test_loss, test_acc = quantum_model.evaluate(test_images,  test_labels, verbose=2)\n",
    "\n",
    "# Evaluate the hybrid model\n",
    "\n",
    "test_loss, test_acc = combined_model.evaluate(test_images,  test_labels, verbose=2)\n",
    "\n",
    "# Save the model\n",
    "cnn_model.save(\"cnn_model.h5\")\n",
    "quantum_model.save(\"quantum_model.h5\")\n",
    "combined_model.save(\"combined_model.h5\")"
   ]
  },
  {
   "cell_type": "code",
   "execution_count": null,
   "metadata": {},
   "outputs": [],
   "source": [
    "# Load the model\n",
    "cnn_model = tf.keras.models.load_model(\"cnn_model.h5\", custom_objects={'circuit': circuit})\n",
    "quantum_model = tf.keras.models.load_model(\"quantum_model.h5\", custom_objects={'circuit': circuit})\n",
    "combined_model = tf.keras.models.load_model(\"combined_model.h5\", custom_objects={'circuit': circuit})\n",
    "\n",
    "# Make predictions\n",
    "predictions = cnn_model.predict(test_images)\n",
    "predictions = quantum_model.predict(test_images)\n",
    "predictions = combined_model.predict(test_images)\n",
    "\n",
    "# Plot the predictions\n",
    "import matplotlib.pyplot as plt\n",
    "\n",
    "plt.figure(figsize=(10, 10))\n",
    "for i in range(9):\n",
    "    plt.subplot(3, 3, i + 1)\n",
    "    plt.xticks([])\n",
    "    plt.yticks([])\n",
    "    plt.grid(False)\n",
    "    plt.imshow(test_images[i], cmap=plt.cm.binary)\n",
    "    plt.xlabel(np.argmax(predictions[i]))\n",
    "plt.show()\n",
    "\n"
   ]
  },
  {
   "cell_type": "code",
   "execution_count": null,
   "metadata": {},
   "outputs": [],
   "source": [
    "# Measure the accuracy\n",
    "\n",
    "from sklearn.metrics import accuracy_score\n",
    "\n",
    "y_pred = np.argmax(predictions, axis=1)\n",
    "\n",
    "# Measure the accuracy of the classical model\n",
    "predictions = cnn_model.predict(test_images)\n",
    "y_pred = np.argmax(predictions, axis=1)\n",
    "cnn_score = accuracy_score(test_labels, y_pred)\n",
    "\n",
    "\n",
    "# Measure the accuracy of the quantum model\n",
    "predictions = quantum_model.predict(test_images)\n",
    "y_pred = np.argmax(predictions, axis=1)\n",
    "quantum_score = accuracy_score(test_labels, y_pred)\n",
    "\n",
    "# Measure the accuracy of the hybrid model\n",
    "predictions = combined_model.predict(test_images)\n",
    "y_pred = np.argmax(predictions, axis=1)\n",
    "hybrid_score = accuracy_score(test_labels, y_pred)"
   ]
  },
  {
   "cell_type": "code",
   "execution_count": null,
   "metadata": {},
   "outputs": [],
   "source": [
    "# Measure the speed of the classical model\n",
    "import time\n",
    "\n",
    "start = time.time()\n",
    "predictions = cnn_model.predict(test_images)\n",
    "end = time.time()\n",
    "print(end - start)\n",
    "# Save speed of classical model\n",
    "cnn_speed = end - start\n",
    "\n",
    "# Measure the speed of the quantum model\n",
    "start = time.time()\n",
    "predictions = quantum_model.predict(test_images)\n",
    "end = time.time()\n",
    "print(end - start)\n",
    "# Save speed of quantum model\n",
    "quantum_speed = end - start\n",
    "\n",
    "# Measure the speed of the hybrid model\n",
    "start = time.time()\n",
    "predictions = combined_model.predict(test_images)\n",
    "end = time.time()\n",
    "print(end - start)\n",
    "# Save speed of hybrid model\n",
    "hybrid_speed = end - start\n",
    "\n",
    "# Make a graph of the differences in accuracy and speed\n",
    "import matplotlib.pyplot as plt\n",
    "\n",
    "accuracy = [cnn_score, quantum_score, hybrid_score]\n",
    "speed = [cnn_speed, quantum_speed, hybrid_speed]\n",
    "labels = [\"Classical\", \"Quantum\", \"Hybrid\"]\n",
    "\n",
    "x = np.arange(len(labels))\n",
    "width = 0.35\n",
    "\n",
    "fig, ax = plt.subplots()\n",
    "\n",
    "rects1 = ax.bar(x - width/2, accuracy, width, label='Accuracy')\n",
    "rects2 = ax.bar(x + width/2, speed, width, label='Speed')\n",
    "\n",
    "ax.set_ylabel('Accuracy/Speed')\n",
    "ax.set_title('Accuracy and Speed of Classical, Quantum, and Hybrid Models')\n",
    "ax.set_xticks(x)\n",
    "ax.set_xticklabels(labels)\n",
    "ax.legend()\n",
    "\n",
    "fig.tight_layout()\n",
    "\n",
    "plt.show()"
   ]
  }
 ],
 "metadata": {
  "kernelspec": {
   "display_name": "venv",
   "language": "python",
   "name": "python3"
  },
  "language_info": {
   "codemirror_mode": {
    "name": "ipython",
    "version": 3
   },
   "file_extension": ".py",
   "mimetype": "text/x-python",
   "name": "python",
   "nbconvert_exporter": "python",
   "pygments_lexer": "ipython3",
   "version": "3.9.17"
  },
  "orig_nbformat": 4
 },
 "nbformat": 4,
 "nbformat_minor": 2
}
