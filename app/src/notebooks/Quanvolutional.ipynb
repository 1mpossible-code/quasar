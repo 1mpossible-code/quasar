{
 "cells": [
  {
   "cell_type": "code",
   "execution_count": null,
   "id": "1385ea21",
   "metadata": {},
   "outputs": [],
   "source": [
    "import pennylane as qml\n",
    "from pennylane import numpy as np\n",
    "from pennylane.templates import RandomLayers\n",
    "import tensorflow as tf\n",
    "from tensorflow import keras\n",
    "import matplotlib.pyplot as plt"
   ]
  },
  {
   "cell_type": "code",
   "execution_count": 2,
   "id": "c90cbd65",
   "metadata": {},
   "outputs": [],
   "source": [
    "# Load the recycled dataset\n",
    "train_data = np.load('./dataset/recycled_32_train.npz')\n",
    "test_data = np.load('./dataset/recycled_32_test.npz')\n",
    "\n",
    "x_train = train_data['x']\n",
    "y_train = train_data['y']\n",
    "x_test = test_data['x']\n",
    "y_test = test_data['y']\n",
    "\n",
    "# Preprocess the data\n",
    "x_train = x_train / 255.0\n",
    "x_test = x_test / 255.0\n",
    "\n",
    "# Reshape the data\n",
    "x_train = x_train.reshape(x_train.shape[0], 32, 32, 3)\n",
    "\n",
    "x_test = x_test.reshape(x_test.shape[0], 32, 32, 3)"
   ]
  },
  {
   "cell_type": "code",
   "execution_count": 10,
   "id": "75fc0f81",
   "metadata": {},
   "outputs": [
    {
     "name": "stdout",
     "output_type": "stream",
     "text": [
      "(10000, 32, 32, 3)\n",
      "(1500, 32, 32, 3)\n"
     ]
    }
   ],
   "source": [
    "print(x_train.shape)\n",
    "print(x_test.shape)"
   ]
  },
  {
   "cell_type": "code",
   "execution_count": 5,
   "id": "55b7ae56",
   "metadata": {},
   "outputs": [],
   "source": [
    "dev = qml.device(\"default.qubit\", wires=4)\n",
    "# Random circuit parameters\n",
    "rand_params = np.random.uniform(high=2 * np.pi, size=(1, 4))\n",
    "\n",
    "@qml.qnode(dev, interface=\"autograd\")\n",
    "def circuit(phi):\n",
    "    # Encoding of 4 classical input values\n",
    "    for j in range(4):\n",
    "        qml.RY(np.pi * phi[j], wires=j)\n",
    "\n",
    "    # Random quantum circuit\n",
    "    RandomLayers(rand_params, wires=list(range(4)))\n",
    "\n",
    "    # Measurement producing 4 classical output values\n",
    "    return [qml.expval(qml.PauliZ(j)) for j in range(4)]"
   ]
  },
  {
   "cell_type": "code",
   "execution_count": 7,
   "id": "229a96cb",
   "metadata": {},
   "outputs": [],
   "source": [
    "def quanv(image):\n",
    "    \"\"\"Convolves the input image with many applications of the same quantum circuit.\"\"\"\n",
    "    out = np.zeros((16, 16, 4))\n",
    "\n",
    "    # Loop over the coordinates of the top-left pixel of 2X2 squares\n",
    "    for j in range(0, 32, 2):\n",
    "        for k in range(0, 32, 2):\n",
    "            # Process a squared 2x2 region of the image with a quantum circuit\n",
    "            q_results = circuit(\n",
    "                [\n",
    "                    image[j, k, 0],\n",
    "                    image[j, k + 1, 0],\n",
    "                    image[j + 1, k, 0],\n",
    "                    image[j + 1, k + 1, 0]\n",
    "                ]\n",
    "            )\n",
    "            # Assign expectation values to different channels of the output pixel (j/2, k/2)\n",
    "            for c in range(4):\n",
    "                out[j // 2, k // 2, c] = q_results[c]\n",
    "    return out"
   ]
  },
  {
   "cell_type": "code",
   "execution_count": 11,
   "id": "62d734c1",
   "metadata": {},
   "outputs": [
    {
     "name": "stdout",
     "output_type": "stream",
     "text": [
      "Quantum pre-processing of train images:\n",
      "10000/10000        \n",
      "Quantum pre-processing of test images:\n",
      "1500/1500        \r"
     ]
    },
    {
     "ename": "NameError",
     "evalue": "name 'SAVE_PATH' is not defined",
     "output_type": "error",
     "traceback": [
      "\u001b[0;31m---------------------------------------------------------------------------\u001b[0m",
      "\u001b[0;31mNameError\u001b[0m                                 Traceback (most recent call last)",
      "Cell \u001b[0;32mIn[11], line 17\u001b[0m\n\u001b[1;32m     14\u001b[0m     q_test_images \u001b[38;5;241m=\u001b[39m np\u001b[38;5;241m.\u001b[39masarray(q_test_images)\n\u001b[1;32m     16\u001b[0m     \u001b[38;5;66;03m# Save pre-processed images\u001b[39;00m\n\u001b[0;32m---> 17\u001b[0m     np\u001b[38;5;241m.\u001b[39msave(SAVE_PATH \u001b[38;5;241m+\u001b[39m \u001b[38;5;124m\"\u001b[39m\u001b[38;5;124mq_train_images.npy\u001b[39m\u001b[38;5;124m\"\u001b[39m, q_train_images)\n\u001b[1;32m     18\u001b[0m     np\u001b[38;5;241m.\u001b[39msave(SAVE_PATH \u001b[38;5;241m+\u001b[39m \u001b[38;5;124m\"\u001b[39m\u001b[38;5;124mq_test_images.npy\u001b[39m\u001b[38;5;124m\"\u001b[39m, q_test_images)\n\u001b[1;32m     21\u001b[0m \u001b[38;5;66;03m# Load pre-processed images\u001b[39;00m\n",
      "\u001b[0;31mNameError\u001b[0m: name 'SAVE_PATH' is not defined"
     ]
    }
   ],
   "source": [
    "SAVE_PATH = \"quanvolution/\"\n",
    "PREPROCESS = False\n",
    "\n",
    "if PREPROCESS:\n",
    "    q_train_images = []\n",
    "    print(\"Quantum pre-processing of train images:\")\n",
    "    for idx, img in enumerate(x_train):\n",
    "        print(\"{}/{}        \".format(idx + 1, 10000), end=\"\\r\")\n",
    "        q_train_images.append(quanv(img))\n",
    "    q_train_images = np.asarray(q_train_images)\n",
    "\n",
    "    q_test_images = []\n",
    "    print(\"\\nQuantum pre-processing of test images:\")\n",
    "    for idx, img in enumerate(x_test):\n",
    "        print(\"{}/{}        \".format(idx + 1, 1500), end=\"\\r\")\n",
    "        q_test_images.append(quanv(img))\n",
    "    q_test_images = np.asarray(q_test_images)\n",
    "\n",
    "    # Save pre-processed images\n",
    "    np.save(SAVE_PATH + \"q_train_images.npy\", q_train_images)\n",
    "    np.save(SAVE_PATH + \"q_test_images.npy\", q_test_images)\n",
    "\n",
    "\n",
    "# Load pre-processed images\n",
    "q_train_images = np.load(SAVE_PATH + \"q_train_images.npy\")\n",
    "q_test_images = np.load(SAVE_PATH + \"q_test_images.npy\")"
   ]
  },
  {
   "cell_type": "code",
   "execution_count": 20,
   "id": "c57a1fe4",
   "metadata": {},
   "outputs": [],
   "source": []
  },
  {
   "cell_type": "code",
   "execution_count": 3,
   "id": "2b15c9f5",
   "metadata": {},
   "outputs": [],
   "source": []
  },
  {
   "cell_type": "code",
   "execution_count": 4,
   "id": "a173e970",
   "metadata": {},
   "outputs": [],
   "source": [
    "# Compile the model\n",
    "def MyModel():\n",
    "    \"\"\"Initializes and returns a custom Keras model\n",
    "    which is ready to be trained.\"\"\"\n",
    "    model = keras.models.Sequential([\n",
    "        keras.layers.Flatten(),\n",
    "        keras.layers.Dense(10, activation=\"softmax\")\n",
    "    ])\n",
    "\n",
    "    model.compile(\n",
    "        optimizer='adam',\n",
    "        loss=\"sparse_categorical_crossentropy\",\n",
    "        metrics=[\"accuracy\"],\n",
    "    )\n",
    "    return model"
   ]
  },
  {
   "cell_type": "code",
   "execution_count": 8,
   "id": "775b57e1",
   "metadata": {},
   "outputs": [
    {
     "name": "stdout",
     "output_type": "stream",
     "text": [
      "Epoch 1/30\n",
      "313/313 - 0s - loss: 1.2644 - accuracy: 0.4940 - val_loss: 1.1593 - val_accuracy: 0.5247 - 214ms/epoch - 684us/step\n",
      "Epoch 2/30\n",
      "313/313 - 0s - loss: 1.0947 - accuracy: 0.5792 - val_loss: 1.1026 - val_accuracy: 0.5547 - 100ms/epoch - 320us/step\n",
      "Epoch 3/30\n",
      "313/313 - 0s - loss: 1.0497 - accuracy: 0.5979 - val_loss: 1.0910 - val_accuracy: 0.5633 - 100ms/epoch - 318us/step\n",
      "Epoch 4/30\n",
      "313/313 - 0s - loss: 1.0226 - accuracy: 0.6051 - val_loss: 1.0630 - val_accuracy: 0.5707 - 99ms/epoch - 317us/step\n",
      "Epoch 5/30\n",
      "313/313 - 0s - loss: 0.9974 - accuracy: 0.6152 - val_loss: 1.0447 - val_accuracy: 0.5780 - 100ms/epoch - 319us/step\n",
      "Epoch 6/30\n",
      "313/313 - 0s - loss: 0.9784 - accuracy: 0.6231 - val_loss: 1.0374 - val_accuracy: 0.5827 - 100ms/epoch - 321us/step\n",
      "Epoch 7/30\n",
      "313/313 - 0s - loss: 0.9651 - accuracy: 0.6295 - val_loss: 1.0308 - val_accuracy: 0.5780 - 99ms/epoch - 317us/step\n",
      "Epoch 8/30\n",
      "313/313 - 0s - loss: 0.9524 - accuracy: 0.6300 - val_loss: 1.0182 - val_accuracy: 0.5873 - 98ms/epoch - 313us/step\n",
      "Epoch 9/30\n",
      "313/313 - 0s - loss: 0.9401 - accuracy: 0.6372 - val_loss: 1.0128 - val_accuracy: 0.5933 - 115ms/epoch - 368us/step\n",
      "Epoch 10/30\n",
      "313/313 - 0s - loss: 0.9316 - accuracy: 0.6417 - val_loss: 0.9955 - val_accuracy: 0.5953 - 103ms/epoch - 329us/step\n",
      "Epoch 11/30\n",
      "313/313 - 0s - loss: 0.9220 - accuracy: 0.6397 - val_loss: 0.9902 - val_accuracy: 0.5980 - 102ms/epoch - 327us/step\n",
      "Epoch 12/30\n",
      "313/313 - 0s - loss: 0.9138 - accuracy: 0.6500 - val_loss: 0.9995 - val_accuracy: 0.5973 - 98ms/epoch - 314us/step\n",
      "Epoch 13/30\n",
      "313/313 - 0s - loss: 0.9063 - accuracy: 0.6505 - val_loss: 0.9868 - val_accuracy: 0.5920 - 98ms/epoch - 313us/step\n",
      "Epoch 14/30\n",
      "313/313 - 0s - loss: 0.9009 - accuracy: 0.6514 - val_loss: 0.9818 - val_accuracy: 0.5953 - 98ms/epoch - 315us/step\n",
      "Epoch 15/30\n",
      "313/313 - 0s - loss: 0.8938 - accuracy: 0.6543 - val_loss: 0.9727 - val_accuracy: 0.6007 - 98ms/epoch - 313us/step\n",
      "Epoch 16/30\n",
      "313/313 - 0s - loss: 0.8871 - accuracy: 0.6563 - val_loss: 0.9725 - val_accuracy: 0.6100 - 98ms/epoch - 314us/step\n",
      "Epoch 17/30\n",
      "313/313 - 0s - loss: 0.8810 - accuracy: 0.6555 - val_loss: 0.9700 - val_accuracy: 0.6020 - 98ms/epoch - 314us/step\n",
      "Epoch 18/30\n",
      "313/313 - 0s - loss: 0.8744 - accuracy: 0.6647 - val_loss: 0.9622 - val_accuracy: 0.6113 - 98ms/epoch - 314us/step\n",
      "Epoch 19/30\n",
      "313/313 - 0s - loss: 0.8754 - accuracy: 0.6599 - val_loss: 0.9661 - val_accuracy: 0.6180 - 99ms/epoch - 315us/step\n",
      "Epoch 20/30\n",
      "313/313 - 0s - loss: 0.8661 - accuracy: 0.6681 - val_loss: 0.9584 - val_accuracy: 0.6093 - 98ms/epoch - 315us/step\n",
      "Epoch 21/30\n",
      "313/313 - 0s - loss: 0.8619 - accuracy: 0.6690 - val_loss: 0.9710 - val_accuracy: 0.5967 - 99ms/epoch - 316us/step\n",
      "Epoch 22/30\n",
      "313/313 - 0s - loss: 0.8566 - accuracy: 0.6694 - val_loss: 0.9605 - val_accuracy: 0.6033 - 101ms/epoch - 321us/step\n",
      "Epoch 23/30\n",
      "313/313 - 0s - loss: 0.8539 - accuracy: 0.6679 - val_loss: 0.9593 - val_accuracy: 0.6047 - 102ms/epoch - 325us/step\n",
      "Epoch 24/30\n",
      "313/313 - 0s - loss: 0.8497 - accuracy: 0.6749 - val_loss: 0.9551 - val_accuracy: 0.5920 - 103ms/epoch - 329us/step\n",
      "Epoch 25/30\n",
      "313/313 - 0s - loss: 0.8433 - accuracy: 0.6710 - val_loss: 0.9563 - val_accuracy: 0.6000 - 103ms/epoch - 329us/step\n",
      "Epoch 26/30\n",
      "313/313 - 0s - loss: 0.8442 - accuracy: 0.6742 - val_loss: 0.9583 - val_accuracy: 0.6027 - 102ms/epoch - 327us/step\n",
      "Epoch 27/30\n",
      "313/313 - 0s - loss: 0.8415 - accuracy: 0.6700 - val_loss: 0.9652 - val_accuracy: 0.5980 - 102ms/epoch - 325us/step\n",
      "Epoch 28/30\n",
      "313/313 - 0s - loss: 0.8379 - accuracy: 0.6720 - val_loss: 0.9580 - val_accuracy: 0.5933 - 98ms/epoch - 312us/step\n",
      "Epoch 29/30\n",
      "313/313 - 0s - loss: 0.8342 - accuracy: 0.6758 - val_loss: 0.9491 - val_accuracy: 0.6013 - 99ms/epoch - 315us/step\n",
      "Epoch 30/30\n",
      "313/313 - 0s - loss: 0.8284 - accuracy: 0.6749 - val_loss: 0.9496 - val_accuracy: 0.6087 - 98ms/epoch - 312us/step\n"
     ]
    }
   ],
   "source": [
    "# Step 2: Training\n",
    "q_model = MyModel()\n",
    "\n",
    "q_history = q_model.fit(\n",
    "    q_train_images,\n",
    "    y_train,\n",
    "    validation_data=(q_test_images, y_test),\n",
    "    batch_size=32,\n",
    "    epochs=30,\n",
    "    verbose=2,\n",
    ")"
   ]
  },
  {
   "cell_type": "code",
   "execution_count": 9,
   "id": "9a0ff8a2",
   "metadata": {},
   "outputs": [
    {
     "name": "stdout",
     "output_type": "stream",
     "text": [
      "47/47 [==============================] - 0s 403us/step - loss: 0.9496 - accuracy: 0.6087\n",
      "Loss: 0.949603259563446\n",
      "Accuracy: 0.6086666584014893\n"
     ]
    }
   ],
   "source": [
    "# Step 3: Evaluation\n",
    "loss, accuracy = q_model.evaluate(q_test_images, y_test)\n",
    "print(\"Loss:\", loss)\n",
    "print(\"Accuracy:\", accuracy)"
   ]
  },
  {
   "cell_type": "code",
   "execution_count": null,
   "id": "bb99ba01",
   "metadata": {},
   "outputs": [],
   "source": []
  }
 ],
 "metadata": {
  "kernelspec": {
   "display_name": "Python 3 (ipykernel)",
   "language": "python",
   "name": "python3"
  },
  "language_info": {
   "codemirror_mode": {
    "name": "ipython",
    "version": 3
   },
   "file_extension": ".py",
   "mimetype": "text/x-python",
   "name": "python",
   "nbconvert_exporter": "python",
   "pygments_lexer": "ipython3",
   "version": "3.11.5"
  }
 },
 "nbformat": 4,
 "nbformat_minor": 5
}
