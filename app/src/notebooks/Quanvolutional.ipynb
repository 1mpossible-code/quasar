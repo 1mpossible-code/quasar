{
 "cells": [
  {
   "cell_type": "code",
   "execution_count": 1,
   "id": "1385ea21",
   "metadata": {
    "executionInfo": {
     "elapsed": 9,
     "status": "ok",
     "timestamp": 1695784647059,
     "user": {
      "displayName": "Yufei Zhen",
      "userId": "17430544577157358937"
     },
     "user_tz": 240
    },
    "id": "1385ea21"
   },
   "outputs": [],
   "source": [
    "import pennylane as qml\n",
    "from pennylane import numpy as np\n",
    "from pennylane.templates import RandomLayers\n",
    "import tensorflow as tf\n",
    "from tensorflow import keras\n",
    "import matplotlib.pyplot as plt"
   ]
  },
  {
   "cell_type": "code",
   "execution_count": 2,
   "id": "c90cbd65",
   "metadata": {
    "executionInfo": {
     "elapsed": 7,
     "status": "ok",
     "timestamp": 1695784647060,
     "user": {
      "displayName": "Yufei Zhen",
      "userId": "17430544577157358937"
     },
     "user_tz": 240
    },
    "id": "c90cbd65"
   },
   "outputs": [],
   "source": [
    "# # Load the recycled dataset\n",
    "train_data = np.load('./dataset/recycled_32_train.npz')\n",
    "test_data = np.load('./dataset/recycled_32_test.npz')\n",
    "# train_data = np.load(\"/content/drive/MyDrive/hAQathon/dataset/recycled_32_train.npz\")\n",
    "# test_data = np.load(\"/content/drive/MyDrive/hAQathon/dataset/recycled_32_test.npz\")\n",
    "\n",
    "x_train = train_data['x']\n",
    "y_train = train_data['y']\n",
    "x_test = test_data['x']\n",
    "y_test = test_data['y']\n",
    "\n",
    "# Preprocess the data\n",
    "x_train = x_train / 255.0\n",
    "x_test = x_test / 255.0\n",
    "\n",
    "# Reshape the data\n",
    "x_train = x_train.reshape(x_train.shape[0], 32, 32, 3)\n",
    "\n",
    "x_test = x_test.reshape(x_test.shape[0], 32, 32, 3)"
   ]
  },
  {
   "cell_type": "code",
   "execution_count": 3,
   "id": "55b7ae56",
   "metadata": {
    "executionInfo": {
     "elapsed": 6,
     "status": "ok",
     "timestamp": 1695784647060,
     "user": {
      "displayName": "Yufei Zhen",
      "userId": "17430544577157358937"
     },
     "user_tz": 240
    },
    "id": "55b7ae56"
   },
   "outputs": [],
   "source": [
    "# Random circuit parameters\n",
    "n_epochs = 50   # Number of optimization epochs\n",
    "n_layers = 1    # Number of random layers\n",
    "n_train = 50    # Size of the train dataset\n",
    "n_test = 30     # Size of the test dataset\n",
    "n_qubits = 16\n",
    "\n",
    "dev = qml.device(\"default.qubit\", wires=n_qubits)\n",
    "rand_params = np.random.uniform(high=2 * np.pi, size=(n_layers, n_qubits))\n",
    "\n",
    "\n",
    "@qml.qnode(dev, interface=\"autograd\")\n",
    "def circuit(phi):\n",
    "    # Encoding of 4 classical input values\n",
    "    for j in range(n_qubits):\n",
    "        qml.RY(np.pi * phi[j], wires=j)\n",
    "\n",
    "    # Random quantum circuit\n",
    "    RandomLayers(rand_params, wires=list(range(n_qubits)))\n",
    "\n",
    "    # Measurement producing 4 classical output values\n",
    "    return [qml.expval(qml.PauliZ(j)) for j in range(n_qubits)]"
   ]
  },
  {
   "cell_type": "code",
   "execution_count": 4,
   "id": "229a96cb",
   "metadata": {
    "executionInfo": {
     "elapsed": 8,
     "status": "ok",
     "timestamp": 1695784647606,
     "user": {
      "displayName": "Yufei Zhen",
      "userId": "17430544577157358937"
     },
     "user_tz": 240
    },
    "id": "229a96cb"
   },
   "outputs": [],
   "source": [
    "def quanv(image):\n",
    "    \"\"\"Convolves the input image with many applications of the same quantum circuit.\"\"\"\n",
    "    out = np.zeros((16, 16, n_qubits))\n",
    "\n",
    "    # Loop over the coordinates of the top-left pixel of 2X2 squares\n",
    "    for j in range(0, 32, int(n_qubits**(0.5))):\n",
    "        for k in range(0, 32, int(n_qubits**(0.5))):\n",
    "            # Process a squared 2x2 region of the image with a quantum circuit\n",
    "            q_results = circuit(\n",
    "                [\n",
    "                    image[j, k, 0],\n",
    "                    image[j, k + 1, 0],\n",
    "                    image[j, k + 2, 0],\n",
    "                    image[j, k + 3, 0],\n",
    "                    image[j + 1, k, 0],\n",
    "                    image[j + 1, k + 1, 0],\n",
    "                    image[j + 1, k + 2, 0],\n",
    "                    image[j + 1, k + 3, 0],\n",
    "                    image[j + 2, k, 0],\n",
    "                    image[j + 2, k + 1, 0],\n",
    "                    image[j + 2, k + 2, 0],\n",
    "                    image[j + 2, k + 3, 0],\n",
    "                    image[j + 3, k, 0],\n",
    "                    image[j + 3, k + 1, 0],\n",
    "                    image[j + 3, k + 2, 0],\n",
    "                    image[j + 3, k + 3, 0],\n",
    "                ]\n",
    "            )\n",
    "            # Assign expectation values to different channels of the output pixel (j/2, k/2)\n",
    "            for c in range(n_qubits):\n",
    "                out[j // 2, k // 2, c] = q_results[c]\n",
    "    return out"
   ]
  },
  {
   "cell_type": "code",
   "execution_count": 5,
   "id": "bX7xG3NsoPWT",
   "metadata": {
    "executionInfo": {
     "elapsed": 8,
     "status": "ok",
     "timestamp": 1695784647607,
     "user": {
      "displayName": "Yufei Zhen",
      "userId": "17430544577157358937"
     },
     "user_tz": 240
    },
    "id": "bX7xG3NsoPWT"
   },
   "outputs": [],
   "source": [
    "train_size = 10000\n",
    "test_size = 1500"
   ]
  },
  {
   "cell_type": "code",
   "execution_count": 6,
   "id": "62d734c1",
   "metadata": {
    "colab": {
     "base_uri": "https://localhost:8080/"
    },
    "id": "62d734c1",
    "outputId": "df738a5f-096b-41f7-b780-eab337093cef"
   },
   "outputs": [
    {
     "name": "stdout",
     "output_type": "stream",
     "text": [
      "Quantum pre-processing of train images:\n",
      "10000/10000        \n",
      "Quantum pre-processing of test images:\n",
      "1500/1500        \r"
     ]
    }
   ],
   "source": [
    "SAVE_PATH = \"quanvolution/\"\n",
    "PREPROCESS = True\n",
    "\n",
    "if PREPROCESS:\n",
    "    q_train_images = []\n",
    "    print(\"Quantum pre-processing of train images:\")\n",
    "    for idx, img in enumerate(x_train):\n",
    "        print(\"{}/{}        \".format(idx + 1, 10000), end=\"\\r\")\n",
    "        q_train_images.append(quanv(img))\n",
    "    q_train_images = np.asarray(q_train_images)\n",
    "\n",
    "    q_test_images = []\n",
    "    print(\"\\nQuantum pre-processing of test images:\")\n",
    "    for idx, img in enumerate(x_test):\n",
    "        print(\"{}/{}        \".format(idx + 1, 1500), end=\"\\r\")\n",
    "        q_test_images.append(quanv(img))\n",
    "    q_test_images = np.asarray(q_test_images)\n",
    "\n",
    "    # Save pre-processed images\n",
    "    np.save(SAVE_PATH + \"q_train_images.npy\", q_train_images)\n",
    "    np.save(SAVE_PATH + \"q_test_images.npy\", q_test_images)\n",
    "\n",
    "\n",
    "# Load pre-processed images\n",
    "q_train_images = np.load(SAVE_PATH + \"q_train_images.npy\")\n",
    "q_test_images = np.load(SAVE_PATH + \"q_test_images.npy\")"
   ]
  },
  {
   "cell_type": "code",
   "execution_count": 8,
   "id": "c0c60865",
   "metadata": {},
   "outputs": [],
   "source": [
    "# SAVE_PATH = \"quanvolution/\"\n",
    "# np.save(SAVE_PATH + \"q_train_images.npy\", q_train_images)\n",
    "# np.save(SAVE_PATH + \"q_test_images.npy\", q_test_images)"
   ]
  },
  {
   "cell_type": "code",
   "execution_count": 7,
   "id": "a173e970",
   "metadata": {
    "id": "a173e970"
   },
   "outputs": [],
   "source": [
    "# Compile the model\n",
    "def MyModel():\n",
    "    \"\"\"Initializes and returns a custom Keras model\n",
    "    which is ready to be trained.\"\"\"\n",
    "    model = keras.models.Sequential([\n",
    "        keras.layers.Flatten(),\n",
    "        keras.layers.Dense(1000, activation=\"softmax\")\n",
    "    ])\n",
    "\n",
    "    model.compile(\n",
    "        optimizer='adam',\n",
    "        loss=\"sparse_categorical_crossentropy\",\n",
    "        metrics=[\"accuracy\"],\n",
    "    )\n",
    "    return model"
   ]
  },
  {
   "cell_type": "code",
   "execution_count": 8,
   "id": "775b57e1",
   "metadata": {
    "id": "775b57e1"
   },
   "outputs": [
    {
     "name": "stdout",
     "output_type": "stream",
     "text": [
      "Epoch 1/50\n",
      "313/313 - 2s - loss: 1.3605 - accuracy: 0.4957 - val_loss: 1.1601 - val_accuracy: 0.5313 - 2s/epoch - 6ms/step\n",
      "Epoch 2/50\n",
      "313/313 - 2s - loss: 1.1005 - accuracy: 0.5714 - val_loss: 1.1187 - val_accuracy: 0.5280 - 2s/epoch - 5ms/step\n",
      "Epoch 3/50\n",
      "313/313 - 2s - loss: 1.0507 - accuracy: 0.5912 - val_loss: 1.0908 - val_accuracy: 0.5533 - 2s/epoch - 5ms/step\n",
      "Epoch 4/50\n",
      "313/313 - 2s - loss: 1.0193 - accuracy: 0.6071 - val_loss: 1.0621 - val_accuracy: 0.5780 - 2s/epoch - 5ms/step\n",
      "Epoch 5/50\n",
      "313/313 - 2s - loss: 0.9961 - accuracy: 0.6143 - val_loss: 1.0398 - val_accuracy: 0.5713 - 2s/epoch - 5ms/step\n",
      "Epoch 6/50\n",
      "313/313 - 2s - loss: 0.9710 - accuracy: 0.6225 - val_loss: 1.0268 - val_accuracy: 0.5687 - 2s/epoch - 5ms/step\n",
      "Epoch 7/50\n",
      "313/313 - 2s - loss: 0.9561 - accuracy: 0.6330 - val_loss: 1.0155 - val_accuracy: 0.5927 - 2s/epoch - 5ms/step\n",
      "Epoch 8/50\n",
      "313/313 - 2s - loss: 0.9433 - accuracy: 0.6302 - val_loss: 1.0127 - val_accuracy: 0.5667 - 2s/epoch - 5ms/step\n",
      "Epoch 9/50\n",
      "313/313 - 2s - loss: 0.9330 - accuracy: 0.6372 - val_loss: 0.9956 - val_accuracy: 0.5940 - 2s/epoch - 5ms/step\n",
      "Epoch 10/50\n",
      "313/313 - 2s - loss: 0.9179 - accuracy: 0.6444 - val_loss: 1.0062 - val_accuracy: 0.5880 - 2s/epoch - 6ms/step\n",
      "Epoch 11/50\n",
      "313/313 - 2s - loss: 0.9123 - accuracy: 0.6432 - val_loss: 0.9816 - val_accuracy: 0.5913 - 2s/epoch - 5ms/step\n",
      "Epoch 12/50\n",
      "313/313 - 2s - loss: 0.9007 - accuracy: 0.6510 - val_loss: 0.9793 - val_accuracy: 0.5960 - 2s/epoch - 5ms/step\n",
      "Epoch 13/50\n",
      "313/313 - 2s - loss: 0.8962 - accuracy: 0.6443 - val_loss: 1.0045 - val_accuracy: 0.5660 - 2s/epoch - 5ms/step\n",
      "Epoch 14/50\n",
      "313/313 - 2s - loss: 0.8892 - accuracy: 0.6519 - val_loss: 0.9779 - val_accuracy: 0.5853 - 2s/epoch - 5ms/step\n",
      "Epoch 15/50\n",
      "313/313 - 2s - loss: 0.8782 - accuracy: 0.6598 - val_loss: 0.9878 - val_accuracy: 0.5780 - 2s/epoch - 5ms/step\n",
      "Epoch 16/50\n",
      "313/313 - 2s - loss: 0.8754 - accuracy: 0.6551 - val_loss: 0.9530 - val_accuracy: 0.5953 - 2s/epoch - 5ms/step\n",
      "Epoch 17/50\n",
      "313/313 - 2s - loss: 0.8661 - accuracy: 0.6599 - val_loss: 0.9610 - val_accuracy: 0.5973 - 2s/epoch - 5ms/step\n",
      "Epoch 18/50\n",
      "313/313 - 2s - loss: 0.8572 - accuracy: 0.6661 - val_loss: 0.9545 - val_accuracy: 0.6060 - 2s/epoch - 5ms/step\n",
      "Epoch 19/50\n",
      "313/313 - 2s - loss: 0.8588 - accuracy: 0.6620 - val_loss: 0.9585 - val_accuracy: 0.6073 - 2s/epoch - 6ms/step\n",
      "Epoch 20/50\n",
      "313/313 - 2s - loss: 0.8491 - accuracy: 0.6656 - val_loss: 0.9453 - val_accuracy: 0.6107 - 2s/epoch - 5ms/step\n",
      "Epoch 21/50\n",
      "313/313 - 2s - loss: 0.8457 - accuracy: 0.6652 - val_loss: 0.9422 - val_accuracy: 0.6013 - 2s/epoch - 5ms/step\n",
      "Epoch 22/50\n",
      "313/313 - 2s - loss: 0.8415 - accuracy: 0.6644 - val_loss: 0.9424 - val_accuracy: 0.6053 - 2s/epoch - 5ms/step\n",
      "Epoch 23/50\n",
      "313/313 - 2s - loss: 0.8355 - accuracy: 0.6751 - val_loss: 0.9458 - val_accuracy: 0.5967 - 2s/epoch - 5ms/step\n",
      "Epoch 24/50\n",
      "313/313 - 2s - loss: 0.8380 - accuracy: 0.6711 - val_loss: 0.9328 - val_accuracy: 0.6087 - 2s/epoch - 5ms/step\n",
      "Epoch 25/50\n",
      "313/313 - 2s - loss: 0.8263 - accuracy: 0.6765 - val_loss: 0.9408 - val_accuracy: 0.6040 - 2s/epoch - 5ms/step\n",
      "Epoch 26/50\n",
      "313/313 - 2s - loss: 0.8237 - accuracy: 0.6735 - val_loss: 0.9257 - val_accuracy: 0.6073 - 2s/epoch - 5ms/step\n",
      "Epoch 27/50\n",
      "313/313 - 2s - loss: 0.8211 - accuracy: 0.6778 - val_loss: 0.9256 - val_accuracy: 0.6040 - 2s/epoch - 5ms/step\n",
      "Epoch 28/50\n",
      "313/313 - 2s - loss: 0.8235 - accuracy: 0.6729 - val_loss: 0.9248 - val_accuracy: 0.6120 - 2s/epoch - 6ms/step\n",
      "Epoch 29/50\n",
      "313/313 - 2s - loss: 0.8150 - accuracy: 0.6783 - val_loss: 0.9290 - val_accuracy: 0.6213 - 2s/epoch - 6ms/step\n",
      "Epoch 30/50\n",
      "313/313 - 2s - loss: 0.8110 - accuracy: 0.6834 - val_loss: 0.9214 - val_accuracy: 0.6113 - 2s/epoch - 5ms/step\n",
      "Epoch 31/50\n",
      "313/313 - 2s - loss: 0.8090 - accuracy: 0.6793 - val_loss: 0.9589 - val_accuracy: 0.6007 - 2s/epoch - 5ms/step\n",
      "Epoch 32/50\n",
      "313/313 - 2s - loss: 0.8059 - accuracy: 0.6864 - val_loss: 0.9197 - val_accuracy: 0.6193 - 2s/epoch - 5ms/step\n",
      "Epoch 33/50\n",
      "313/313 - 2s - loss: 0.8035 - accuracy: 0.6809 - val_loss: 0.9367 - val_accuracy: 0.6100 - 2s/epoch - 5ms/step\n",
      "Epoch 34/50\n",
      "313/313 - 2s - loss: 0.8008 - accuracy: 0.6810 - val_loss: 0.9289 - val_accuracy: 0.6187 - 2s/epoch - 5ms/step\n",
      "Epoch 35/50\n",
      "313/313 - 2s - loss: 0.7973 - accuracy: 0.6842 - val_loss: 0.9251 - val_accuracy: 0.6147 - 2s/epoch - 5ms/step\n",
      "Epoch 36/50\n",
      "313/313 - 2s - loss: 0.8003 - accuracy: 0.6832 - val_loss: 0.9264 - val_accuracy: 0.6113 - 2s/epoch - 5ms/step\n",
      "Epoch 37/50\n",
      "313/313 - 2s - loss: 0.7915 - accuracy: 0.6873 - val_loss: 0.9328 - val_accuracy: 0.6173 - 2s/epoch - 5ms/step\n",
      "Epoch 38/50\n",
      "313/313 - 2s - loss: 0.7891 - accuracy: 0.6858 - val_loss: 0.9235 - val_accuracy: 0.6193 - 2s/epoch - 6ms/step\n",
      "Epoch 39/50\n",
      "313/313 - 2s - loss: 0.7835 - accuracy: 0.6908 - val_loss: 0.9188 - val_accuracy: 0.6213 - 2s/epoch - 5ms/step\n",
      "Epoch 40/50\n",
      "313/313 - 2s - loss: 0.7842 - accuracy: 0.6906 - val_loss: 0.9081 - val_accuracy: 0.6307 - 2s/epoch - 5ms/step\n",
      "Epoch 41/50\n",
      "313/313 - 2s - loss: 0.7801 - accuracy: 0.6897 - val_loss: 0.9162 - val_accuracy: 0.6227 - 2s/epoch - 5ms/step\n",
      "Epoch 42/50\n",
      "313/313 - 2s - loss: 0.7809 - accuracy: 0.6870 - val_loss: 0.9146 - val_accuracy: 0.6220 - 2s/epoch - 5ms/step\n",
      "Epoch 43/50\n",
      "313/313 - 2s - loss: 0.7793 - accuracy: 0.6904 - val_loss: 0.9203 - val_accuracy: 0.6307 - 2s/epoch - 6ms/step\n",
      "Epoch 44/50\n",
      "313/313 - 2s - loss: 0.7713 - accuracy: 0.6971 - val_loss: 0.9160 - val_accuracy: 0.6267 - 2s/epoch - 5ms/step\n",
      "Epoch 45/50\n",
      "313/313 - 2s - loss: 0.7726 - accuracy: 0.6930 - val_loss: 0.9271 - val_accuracy: 0.6113 - 2s/epoch - 5ms/step\n",
      "Epoch 46/50\n",
      "313/313 - 2s - loss: 0.7740 - accuracy: 0.6975 - val_loss: 0.9107 - val_accuracy: 0.6240 - 2s/epoch - 5ms/step\n",
      "Epoch 47/50\n",
      "313/313 - 2s - loss: 0.7676 - accuracy: 0.6985 - val_loss: 0.9070 - val_accuracy: 0.6220 - 2s/epoch - 6ms/step\n",
      "Epoch 48/50\n",
      "313/313 - 2s - loss: 0.7686 - accuracy: 0.6945 - val_loss: 0.9483 - val_accuracy: 0.6133 - 2s/epoch - 5ms/step\n",
      "Epoch 49/50\n",
      "313/313 - 2s - loss: 0.7611 - accuracy: 0.6996 - val_loss: 0.9054 - val_accuracy: 0.6287 - 2s/epoch - 5ms/step\n",
      "Epoch 50/50\n",
      "313/313 - 2s - loss: 0.7640 - accuracy: 0.6978 - val_loss: 0.9000 - val_accuracy: 0.6307 - 2s/epoch - 5ms/step\n"
     ]
    }
   ],
   "source": [
    "# Step 2: Training\n",
    "q_model = MyModel()\n",
    "\n",
    "q_history = q_model.fit(\n",
    "    q_train_images,\n",
    "    y_train,\n",
    "    validation_data=(q_test_images, y_test),\n",
    "    batch_size=32,\n",
    "    epochs=n_epochs,\n",
    "    verbose=2,\n",
    ")"
   ]
  },
  {
   "cell_type": "code",
   "execution_count": 9,
   "id": "9a0ff8a2",
   "metadata": {
    "id": "9a0ff8a2"
   },
   "outputs": [
    {
     "name": "stdout",
     "output_type": "stream",
     "text": [
      "47/47 [==============================] - 0s 2ms/step - loss: 0.9000 - accuracy: 0.6307\n",
      "Loss: 0.900017261505127\n",
      "Accuracy: 0.6306666731834412\n"
     ]
    }
   ],
   "source": [
    "# Step 3: Evaluation\n",
    "loss, accuracy = q_model.evaluate(q_test_images, y_test)\n",
    "print(\"Loss:\", loss)\n",
    "print(\"Accuracy:\", accuracy)"
   ]
  },
  {
   "cell_type": "code",
   "execution_count": null,
   "id": "ab25a8bb",
   "metadata": {},
   "outputs": [],
   "source": []
  },
  {
   "cell_type": "code",
   "execution_count": null,
   "id": "3b021d8e",
   "metadata": {},
   "outputs": [],
   "source": []
  }
 ],
 "metadata": {
  "accelerator": "GPU",
  "colab": {
   "gpuType": "T4",
   "provenance": []
  },
  "kernelspec": {
   "display_name": "Python 3 (ipykernel)",
   "language": "python",
   "name": "python3"
  },
  "language_info": {
   "codemirror_mode": {
    "name": "ipython",
    "version": 3
   },
   "file_extension": ".py",
   "mimetype": "text/x-python",
   "name": "python",
   "nbconvert_exporter": "python",
   "pygments_lexer": "ipython3",
   "version": "3.11.5"
  }
 },
 "nbformat": 4,
 "nbformat_minor": 5
}
